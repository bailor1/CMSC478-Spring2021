{
 "cells": [
  {
   "cell_type": "markdown",
   "metadata": {
    "slideshow": {
     "slide_type": "slide"
    }
   },
   "source": [
    "#### <h1><center>CMSC 478: Machine Learning</center></h1>\n",
    "\n",
    "<center><img src=\"img/title.jpg\" align=\"center\"/></center>\n",
    "\n",
    "\n",
    "<h3 style=\"color:blue;\"><center>Instructor: Fereydoon Vafaei</center></h3>\n",
    "\n",
    "\n",
    "<h5 style=\"color:purple;\"><center>Recurrent Neural Networks RNN</center></h5>\n",
    "\n",
    "<center><img src=\"img/UMBC_logo.png\" align=\"center\"/></center>"
   ]
  },
  {
   "cell_type": "markdown",
   "metadata": {
    "slideshow": {
     "slide_type": "slide"
    }
   },
   "source": [
    "<h1><center>Agenda</center></h1>\n",
    "\n",
    "- <b>Recurrent Neural Networks - RNNs</b>\n",
    "    - Recurrent Neurons and Layers\n",
    "    - Output Equations\n",
    "    - Encoder-Decoder Networks\n",
    "    \n",
    "- <b>Training RNNs</b>\n",
    "\n",
    "- <b>Forecasting Time Series</b>\n",
    "\n",
    "- <b>Handling Long Sequences</b>\n",
    "\n",
    "- <b>Long Short-Term Memory (LSTM)</b>\n",
    "    - LSTM Cells\n",
    "    - GRU Cells\n",
    "\n",
    "- <b>WaveNet</b>"
   ]
  },
  {
   "cell_type": "code",
   "execution_count": 6,
   "metadata": {
    "slideshow": {
     "slide_type": "notes"
    }
   },
   "outputs": [],
   "source": [
    "import numpy as np\n",
    "import matplotlib.pyplot as plt\n",
    "%matplotlib inline \n",
    "\n",
    "import tensorflow as tf\n",
    "from tensorflow import keras\n",
    "from tensorflow.keras import layers"
   ]
  },
  {
   "cell_type": "markdown",
   "metadata": {
    "slideshow": {
     "slide_type": "slide"
    }
   },
   "source": [
    "<h1><center>Recurrent Neural Networks - RNNs</center></h1>\n",
    "\n",
    "- So far, we have focused on feedforward neural networks, where the activations flow only in one direction, from the input layer to the output layer.\n",
    "\n",
    "\n",
    "- A **Recurrent Neural Network RNN** looks very much like a feedforward neural network, except it also has connections pointing backward.\n",
    "\n",
    "\n",
    "- RNNs can analyze **time series** data such as stock prices, and tell you when to buy or sell.\n",
    "\n",
    "\n",
    "- In autonomous driving systems, RNNs can anticipate car trajectories and help avoid accidents.\n",
    "\n",
    "\n",
    "- More generally, RNNs can work on sequences of arbitrary lengths, rather than on fixed-sized inputs like all the nets we have considered so far.\n",
    "\n",
    "\n",
    "- For example, they can take sentences, documents, or audio samples as input, making them extremely useful for natural language processing applications such as automatic translation or speech-to-text."
   ]
  },
  {
   "cell_type": "markdown",
   "metadata": {
    "slideshow": {
     "slide_type": "slide"
    }
   },
   "source": [
    "<h1><center>Recurrent Neurons</center></h1>\n",
    "\n",
    "- Let’s look at the simplest possible RNN, composed of one neuron receiving inputs, producing an output, and sending that output back to itself, as shown in Figure 15-1 (left).\n",
    "\n",
    "- At each time step $t$ (also called a frame), this recurrent neuron receives the inputs $x_{(t)}$ as well as its own output from the previous time step, $y_{(t–1)}$\n",
    "\n",
    "- Since there is no previous output at the first time step, it is generally set to 0. We can represent this tiny network against the time axis, as shown in Figure 15-1 (right). This is called **unrolling the network through time** (it’s the same recurrent neuron represented once per time step).\n",
    "\n",
    "<center><img src=\"img/fig-15-1.png\" align=\"center\"/></center>\n",
    "\n",
    "<font size='1'>Image from Ref[1]</font>"
   ]
  },
  {
   "cell_type": "markdown",
   "metadata": {
    "slideshow": {
     "slide_type": "slide"
    }
   },
   "source": [
    "<h1><center>Layer of Recurrent Neurons</center></h1>\n",
    "\n",
    "- You can easily create a layer of recurrent neurons. At each time step $t$, every neuron receives both the input vector $x_{(t)}$ and the output vector from the previous time step $y_{(t–1)}$, as shown in Figure 15-2.\n",
    "\n",
    "- Note that both the inputs and outputs are vectors now (when there was just a single neuron, the output was a scalar).\n",
    "\n",
    "<center><img src=\"img/fig-15-2.png\" align=\"center\"/></center>\n",
    "\n",
    "<font size='1'>Image from Ref[1]</font>"
   ]
  },
  {
   "cell_type": "markdown",
   "metadata": {
    "slideshow": {
     "slide_type": "slide"
    }
   },
   "source": [
    "<h1><center>Recurrent Neuron Output Equation</center></h1>\n",
    "\n",
    "- Each recurrent neuron has two sets of weights: one for the inputs $x_{(t)}$ and the other for the outputs of the previous time step, $\\mathbf{y}_{(t-1)}$. Let’s call these weight vectors $w_x$ and $w_y$ .\n",
    "\n",
    "- If we consider the whole recurrent layer instead of just one recurrent neuron, we can place all the weight vectors in two weight matrices, $\\mathbf{W}_x$ and $\\mathbf{W}_y$\n",
    "\n",
    "- The output vector of the whole recurrent layer can then be computed pretty much as you might expect, as shown in Equation 15-1 where $\\mathbf{b}$ is the bias vector and $\\phi()$ is the activation function (e.g., ReLU)."
   ]
  },
  {
   "cell_type": "markdown",
   "metadata": {
    "slideshow": {
     "slide_type": "fragment"
    }
   },
   "source": [
    "**Equation 15-1: Output of a recurrent layer for a single instance**\n",
    "\n",
    "$\n",
    "\\mathbf{y}_{(t)} = \\phi\\left({\\mathbf{W}_x}^T{\\mathbf{x}_{(t)}} + {{\\mathbf{W}_y}^T\\mathbf{y}_{(t-1)}} + \\mathbf{b} \\right)\n",
    "$"
   ]
  },
  {
   "cell_type": "markdown",
   "metadata": {
    "slideshow": {
     "slide_type": "slide"
    }
   },
   "source": [
    "<h1><center>Recurrent Layer Output Equation</center></h1>\n",
    "\n",
    "- Just as with feedforward neural networks, we can compute a recurrent layer’s output in one shot for a whole mini-batch by placing all the inputs at time step $t$ in an input matrix $\\mathbf{X}_{(t)}$ as can be seen in Equation 15-2."
   ]
  },
  {
   "cell_type": "markdown",
   "metadata": {
    "slideshow": {
     "slide_type": "fragment"
    }
   },
   "source": [
    "**Equation 15-2: Outputs of a layer of recurrent neurons for all instances in a mini-batch**\n",
    "\n",
    "$\n",
    "\\begin{split}\n",
    "\\mathbf{Y}_{(t)} & = \\phi\\left(\\mathbf{X}_{(t)} \\mathbf{W}_{x} + \\mathbf{Y}_{(t-1)} \\mathbf{W}_{y} + \\mathbf{b} \\right) \\\\\n",
    "& = \\phi\\left(\n",
    "\\left[\\mathbf{X}_{(t)} \\quad \\mathbf{Y}_{(t-1)} \\right]\n",
    "  \\mathbf{W} + \\mathbf{b} \\right) \\text{ with } \\mathbf{W}=\n",
    "\\left[ \\begin{matrix}\n",
    "  \\mathbf{W}_x\\\\\n",
    "  \\mathbf{W}_y\n",
    "\\end{matrix} \\right]\n",
    "\\end{split}\n",
    "$"
   ]
  },
  {
   "cell_type": "markdown",
   "metadata": {
    "slideshow": {
     "slide_type": "slide"
    }
   },
   "source": [
    "**Equation 15-2: Outputs of a layer of recurrent neurons for all instances in a mini-batch**\n",
    "\n",
    "$\n",
    "\\begin{split}\n",
    "\\mathbf{Y}_{(t)} & = \\phi\\left(\\mathbf{X}_{(t)} \\mathbf{W}_{x} + \\mathbf{Y}_{(t-1)} \\mathbf{W}_{y} + \\mathbf{b} \\right) \\\\\n",
    "& = \\phi\\left(\n",
    "\\left[\\mathbf{X}_{(t)} \\quad \\mathbf{Y}_{(t-1)} \\right]\n",
    "  \\mathbf{W} + \\mathbf{b} \\right) \\text{ with } \\mathbf{W}=\n",
    "\\left[ \\begin{matrix}\n",
    "  \\mathbf{W}_x\\\\\n",
    "  \\mathbf{W}_y\n",
    "\\end{matrix} \\right]\n",
    "\\end{split}\n",
    "$\n",
    "\n",
    "- In this equation:\n",
    "    - $\\mathbf{Y}_{(t)}$ is an $(m × n_{neurons})$ matrix containing the layer’s outputs at time step $t$ for each instance in the mini-batch. $m$ is the number of instances in the mini-batch and $n_{neurons}$ is the number of neurons.\n",
    "    - $\\mathbf{X}_{(t)}$ is an $(m × n_{inputs})$ matrix containing the inputs for all instances. $n_{inputs}$ is the number of input features.\n",
    "    - $\\mathbf{W}_{x}$ is an $n_{inputs} × n_{neurons}$ matrix containing the connection weights for the inputs of the current time step.\n",
    "    - $\\mathbf{W}_{y}$ is an $n_{neurons} × n_{neurons}$ matrix containing the connection weights for the outputs of the previous time step.\n",
    "    - $\\mathbf{b}$ is a vector of size $n_{neurons}$ containing each neuron’s bias term.\n",
    "    - The weight matrices $\\mathbf{W}_{x}$ and $\\mathbf{W}_{y}$ are often concatenated vertically into a single weight matrix $\\mathbf{W}$ of shape $(n_{inputs} + n_{neurons}) × n_{neurons}$ (see the second line of Equation 15-2).\n",
    "    - The notation $[\\mathbf{X}_{(t)} \\quad \\mathbf{Y}_{(t-1)}]$ represents the horizontal concatenation of the matrices $X_{(t)}$ and $Y_{(t–1)}$.\n",
    "\n",
    "\n",
    "- Notice that $\\mathbf{Y}_{(t)}$  is a function of $\\mathbf{X}_{(t)}$ and $\\mathbf{Y}_{(t-1)}$, which is a function of $\\mathbf{X}_{(t-1)}$ and $\\mathbf{Y}_{(t-2)}$, which is a function of $\\mathbf{X}_{(t-2)}$ and $\\mathbf{Y}_{(t-3)}$ , and so on. This makes $\\mathbf{Y}_{(t)}$ a function of all the inputs since time $t = 0$ (that is, $\\mathbf{X}_{(0)}$ , $\\mathbf{X}_{(1)}$ , ..., $\\mathbf{X}_{(t)}$). At the first time step, $t = 0$, there are no previous outputs, so they are typically assumed to be all zeros."
   ]
  },
  {
   "cell_type": "markdown",
   "metadata": {
    "slideshow": {
     "slide_type": "slide"
    }
   },
   "source": [
    "<h1><center>Memory Cells</center></h1>\n",
    "\n",
    "- Since the output of a recurrent neuron at time step $t$ is a function of all the inputs from previous time steps, you could say it has a form of **memory**.\n",
    "\n",
    "\n",
    "- A part of a neural network that preserves some state across time steps is called a **memory cell** (or simply a cell).\n",
    "\n",
    "\n",
    "- A single recurrent neuron, or a layer of recurrent neurons, is a very basic cell, capable of learning only short patterns typically about 10 steps long, but this varies depending on the task."
   ]
  },
  {
   "cell_type": "markdown",
   "metadata": {
    "slideshow": {
     "slide_type": "slide"
    }
   },
   "source": [
    "<h1><center>Cell's Hidden State</center></h1>\n",
    "\n",
    "- In general a cell’s state at time step $t$, denoted $\\mathbf{h}_{(t)}$ (the “h” stands for “hidden”), is a function of some inputs at that time step and its state at the previous time step: $\\mathbf{h}_{(t)} = f(\\mathbf{h}_{(t-1)} , \\mathbf{x}_{(t)})$\n",
    "\n",
    "- Its output at time step $t$, denoted $\\mathbf{y}_{(t)}$, is also a function of the previous state and the current inputs.\n",
    "\n",
    "- In the case of the basic cells we have discussed so far, the output is simply equal to the state, but in more complex cells this is not always the case, as shown in Figure 15-3.\n",
    "\n",
    "<center><img src=\"img/fig-15-3.png\" align=\"center\"/></center>\n",
    "\n",
    "<font size='1'>Image from Ref[1]</font>"
   ]
  },
  {
   "cell_type": "markdown",
   "metadata": {
    "slideshow": {
     "slide_type": "slide"
    }
   },
   "source": [
    "<h1><center>Sequence-to-Sequence, Sequence-to-Vector, Vector-to-Sequence Networks</center></h1>\n",
    "\n",
    "- An RNN can simultaneously take a sequence of inputs and produce a sequence of outputs--- see the top-left network in Figure 15-4.\n",
    "\n",
    "- This type of **sequence-to-sequence network** is useful for predicting time series such as stock prices: you feed it the prices over the last $N$ days, and it must output the prices shifted by one day into the future i.e., from $N-1$ days ago to tomorrow.\n",
    "\n",
    "- Alternatively, you could feed the network a sequence of inputs and ignore all outputs except for the last one (see the top-right network in Figure 15-4). In other words, this is a **sequence-to-vector network**. For example, you could feed the network a sequence of words corresponding to a movie review, and the network would output a sentiment score e.g., from –1 [hate] to +1 [love].\n",
    "\n",
    "- Conversely, you could feed the network the same input vector over and over again at each time step and let it output a sequence (see the bottom-left network of Figure 15-4). This is a **vector-to-sequence network**. For example, the input could be an image (or the output of a CNN), and the output could be a caption for that image.\n",
    "\n",
    "<center><img src=\"img/fig-15-4.png\" align=\"center\"/></center>\n",
    "\n",
    "<font size='1'>Image from Ref[1]</font>"
   ]
  },
  {
   "cell_type": "markdown",
   "metadata": {
    "slideshow": {
     "slide_type": "slide"
    }
   },
   "source": [
    "<h1><center>Encoder-Decoder Networks</center></h1>\n",
    "\n",
    "- Lastly, you could have a **sequence-to-vector network**, called an **encoder**, followed by a **vector-to-sequence network**, called a **decoder** (see the bottom-right network of Figure 15-4). For example, this could be used for translating a sentence from one language to another. You would feed the network a sentence in one language, the encoder would convert this sentence into a single vector representation, and then the decoder would decode this vector into a sentence in another language.\n",
    "\n",
    "- This two-step model, called an **Encoder–Decoder**, works much better than trying to translate on the fly with a single **sequence-to-sequence RNN** like the one represented at the top left: the last words of a sentence can affect the first words of the translation, so you need to wait until you have seen the whole sentence before translating it.\n",
    "\n",
    "<center><img src=\"img/fig-15-4.png\" align=\"center\"/></center>\n",
    "\n",
    "<font size='1'>Image from Ref[1]</font>"
   ]
  },
  {
   "cell_type": "markdown",
   "metadata": {
    "slideshow": {
     "slide_type": "slide"
    }
   },
   "source": [
    "<h1><center>Training RNNs</center></h1>\n",
    "\n",
    "- To train an RNN, the trick is to unroll it through time (like we just did) and then simply use regular backpropagation. This strategy is called **backpropagation through time (BPTT)**."
   ]
  },
  {
   "cell_type": "markdown",
   "metadata": {
    "slideshow": {
     "slide_type": "slide"
    }
   },
   "source": [
    "<h1><center>Backpropagation Through Time - BPTT</center></h1>\n",
    "\n",
    "- Just like in regular backpropagation, there is a first forward pass through the unrolled network (represented by the dashed arrows). Then the output sequence is evaluated using a cost function $C(Y_{(0)} , Y_{(1)} , ...Y_{(T)})$ where $T$ is the max time step.\n",
    "\n",
    "- Note that this cost function may ignore some outputs, as shown in Figure 15-5 - for example, in a sequence-to-vector RNN, all outputs are ignored except for the very last one.\n",
    "\n",
    "- The gradients of that cost function are then propagated backward through the unrolled network (represented by the solid arrows).\n",
    "\n",
    "- Finally the model parameters are updated using the gradients computed during **BPTT**.\n",
    "\n",
    "- Note that the gradients flow backward through all the outputs used by the cost function, not just through the final output.\n",
    "\n",
    "- For example, in Figure 15-5 the cost function is computed using the last three outputs of the network, $Y_{(2)}, Y_{(3)}$, and $Y_{(4)}$, so gradients flow through these three outputs, but not through $Y_{(0)}$ and $Y_{(1)}$.\n",
    "\n",
    "- Moreover, since the same parameters $W$ and $b$ are used at each time step, backpropagation will do the right thing and sum over all time steps.\n",
    "\n",
    "<center><img src=\"img/fig-15-5.png\" align=\"center\"/></center>\n",
    "\n",
    "<font size='1'>Image from Ref[1]</font>"
   ]
  },
  {
   "cell_type": "markdown",
   "metadata": {
    "slideshow": {
     "slide_type": "slide"
    }
   },
   "source": [
    "<h1><center>Time Series Forecasting</center></h1>\n",
    "\n",
    "- Suppose you are studying the number of active users per hour on your website, or the daily temperature in your city, or your company’s financial health, measured quarterly using multiple metrics.\n",
    "\n",
    "\n",
    "- In all these cases, the data will be a sequence of one or more values per time step. This is called a **time series**.\n",
    "\n",
    "\n",
    "- In the first two examples there is a single value per time step, so these are univariate time series, while in the financial example there are multiple values per time step (e.g., the company’s revenue, debt, and so on), so it is a **multivariate time series**.\n",
    "\n",
    "\n",
    "- A typical task is to predict future values, which is called **forecasting**.\n",
    "\n",
    "\n",
    "- Another common task is to fill in the blanks: to predict (or rather **postdict**) missing values from the past. This is called **imputation**."
   ]
  },
  {
   "cell_type": "markdown",
   "metadata": {
    "slideshow": {
     "slide_type": "slide"
    }
   },
   "source": [
    "<h1><center>Time Series Forecasting</center></h1>\n",
    "\n",
    "- Figure 15-6 shows 3 univariate time series, each of them 50 time steps long, and the goal here is to forecast the value at the next time step (represented by the blue X) for each of them.\n",
    "\n",
    "<center><img src=\"img/fig-15-6.png\" align=\"center\"/></center>\n",
    "\n",
    "<font size='1'>Image from Ref[1]</font>"
   ]
  },
  {
   "cell_type": "code",
   "execution_count": 11,
   "metadata": {
    "slideshow": {
     "slide_type": "skip"
    }
   },
   "outputs": [],
   "source": [
    "# Python ≥3.5 is required\n",
    "import sys\n",
    "assert sys.version_info >= (3, 5)\n",
    "\n",
    "# Scikit-Learn ≥0.20 is required\n",
    "import sklearn\n",
    "assert sklearn.__version__ >= \"0.20\"\n",
    "\n",
    "try:\n",
    "    # %tensorflow_version only exists in Colab.\n",
    "    %tensorflow_version 2.x\n",
    "    IS_COLAB = True\n",
    "except Exception:\n",
    "    IS_COLAB = False\n",
    "\n",
    "# TensorFlow ≥2.0 is required\n",
    "import tensorflow as tf\n",
    "from tensorflow import keras\n",
    "assert tf.__version__ >= \"2.0\"\n",
    "\n",
    "if not tf.config.list_physical_devices('GPU'):\n",
    "    print(\"No GPU was detected. LSTMs and CNNs can be very slow without a GPU.\")\n",
    "    if IS_COLAB:\n",
    "        print(\"Go to Runtime > Change runtime and select a GPU hardware accelerator.\")\n",
    "\n",
    "# Common imports\n",
    "import numpy as np\n",
    "import os\n",
    "from pathlib import Path\n",
    "\n",
    "# to make this notebook's output stable across runs\n",
    "np.random.seed(42)\n",
    "tf.random.set_seed(42)\n",
    "\n",
    "# To plot pretty figures\n",
    "%matplotlib inline\n",
    "import matplotlib as mpl\n",
    "import matplotlib.pyplot as plt\n",
    "mpl.rc('axes', labelsize=14)\n",
    "mpl.rc('xtick', labelsize=12)\n",
    "mpl.rc('ytick', labelsize=12)"
   ]
  },
  {
   "cell_type": "code",
   "execution_count": 12,
   "metadata": {
    "slideshow": {
     "slide_type": "slide"
    }
   },
   "outputs": [],
   "source": [
    "''' This function creates as many time series as requested (via the batch_size argument), each of length n_steps,\n",
    "and there is just one value per time step in each series (i.e., all series are univariate).\n",
    "The function returns a NumPy array of shape [batch size, time steps, 1],\n",
    "where each series is the sum of two sine waves of fixed amplitudes,\n",
    "but random frequencies and phases, plus a bit of noise. ''' \n",
    "\n",
    "def generate_time_series(batch_size, n_steps):\n",
    "    freq1, freq2, offsets1, offsets2 = np.random.rand(4, batch_size, 1)\n",
    "    time = np.linspace(0, 1, n_steps)\n",
    "    series = 0.5 * np.sin((time - offsets1) * (freq1 * 10 + 10))  #   wave 1\n",
    "    series += 0.2 * np.sin((time - offsets2) * (freq2 * 20 + 20)) # + wave 2\n",
    "    series += 0.1 * (np.random.rand(batch_size, n_steps) - 0.5)   # + noise\n",
    "    return series[..., np.newaxis].astype(np.float32)"
   ]
  },
  {
   "cell_type": "markdown",
   "metadata": {
    "slideshow": {
     "slide_type": "slide"
    }
   },
   "source": [
    "<h1><center>Time Series Dimensionality Representation</center></h1>\n",
    "\n",
    "- When dealing with time series (and other types of sequences such as sentences), the input features are generally represented as 3D arrays of shape [batch size, time steps, dimensionality], where dimensionality is 1 for univariate time series and more for multi‐ variate time series."
   ]
  },
  {
   "cell_type": "code",
   "execution_count": 13,
   "metadata": {
    "slideshow": {
     "slide_type": "slide"
    }
   },
   "outputs": [],
   "source": [
    "np.random.seed(42)\n",
    "n_steps = 50\n",
    "series = generate_time_series(10000, n_steps + 1)\n",
    "X_train, y_train = series[:7000, :n_steps], series[:7000, -1]\n",
    "X_valid, y_valid = series[7000:9000, :n_steps], series[7000:9000, -1]\n",
    "X_test, y_test = series[9000:, :n_steps], series[9000:, -1]"
   ]
  },
  {
   "cell_type": "code",
   "execution_count": 65,
   "metadata": {
    "slideshow": {
     "slide_type": "fragment"
    }
   },
   "outputs": [
    {
     "data": {
      "text/plain": [
       "((7000, 50, 1), (7000, 1))"
      ]
     },
     "execution_count": 65,
     "metadata": {},
     "output_type": "execute_result"
    }
   ],
   "source": [
    "''' X_train contains 7,000 time series (i.e., its shape is [7000, 50, 1]),\n",
    "while X_valid contains 2,000 (from the 7,000th time series to the 8,999th) and X_test contains 1,000\n",
    "(from the 9,000th to the 9,999th ). Since we want to forecast a single value for each series,\n",
    "the targets are column vectors (e.g., y_train has a shape of [7000, 1]). '''\n",
    "\n",
    "X_train.shape, y_train.shape"
   ]
  },
  {
   "cell_type": "code",
   "execution_count": 66,
   "metadata": {
    "slideshow": {
     "slide_type": "slide"
    }
   },
   "outputs": [
    {
     "data": {
      "image/png": "[encoded data removed]",
      "text/plain": [
       "<Figure size 864x288 with 3 Axes>"
      ]
     },
     "metadata": {
      "needs_background": "light"
     },
     "output_type": "display_data"
    }
   ],
   "source": [
    "def plot_series(series, y=None, y_pred=None, x_label=\"$t$\", y_label=\"$x(t)$\"):\n",
    "    plt.plot(series, \".-\")\n",
    "    if y is not None:\n",
    "        plt.plot(n_steps, y, \"bx\", markersize=10)\n",
    "    if y_pred is not None:\n",
    "        plt.plot(n_steps, y_pred, \"ro\")\n",
    "    plt.grid(True)\n",
    "    if x_label:\n",
    "        plt.xlabel(x_label, fontsize=16)\n",
    "    if y_label:\n",
    "        plt.ylabel(y_label, fontsize=16, rotation=0)\n",
    "    plt.hlines(0, 0, 100, linewidth=1)\n",
    "    plt.axis([0, n_steps + 1, -1, 1])\n",
    "\n",
    "fig, axes = plt.subplots(nrows=1, ncols=3, sharey=True, figsize=(12, 4))\n",
    "for col in range(3):\n",
    "    plt.sca(axes[col])\n",
    "    plot_series(X_valid[col, :, 0], y_valid[col, 0],\n",
    "                y_label=(\"$x(t)$\" if col==0 else None))"
   ]
  },
  {
   "cell_type": "markdown",
   "metadata": {
    "slideshow": {
     "slide_type": "slide"
    }
   },
   "source": [
    "<h1><center>Baseline Metrics</center></h1>\n",
    "\n",
    "- Before we start using RNNs, it is often a good idea to have a few baseline metrics, or else we may end up thinking our model works great when in fact it is doing worse than basic models.\n",
    "\n",
    "- For example, the simplest approach is to predict the last value in each series. This is called **naive forecasting**, and it is sometimes surprisingly difficult to outperform. In this case, it gives us a mean squared error of about 0.020:"
   ]
  },
  {
   "cell_type": "code",
   "execution_count": 67,
   "metadata": {
    "slideshow": {
     "slide_type": "fragment"
    }
   },
   "outputs": [
    {
     "data": {
      "text/plain": [
       "0.020211367"
      ]
     },
     "execution_count": 67,
     "metadata": {},
     "output_type": "execute_result"
    }
   ],
   "source": [
    "y_pred = X_valid[:, -1]\n",
    "np.mean(keras.losses.mean_squared_error(y_valid, y_pred))"
   ]
  },
  {
   "cell_type": "code",
   "execution_count": 68,
   "metadata": {
    "slideshow": {
     "slide_type": "fragment"
    }
   },
   "outputs": [
    {
     "data": {
      "image/png": "[encoded data removed]",
      "text/plain": [
       "<Figure size 432x288 with 1 Axes>"
      ]
     },
     "metadata": {
      "needs_background": "light"
     },
     "output_type": "display_data"
    }
   ],
   "source": [
    "plot_series(X_valid[0, :, 0], y_valid[0, 0], y_pred[0, 0])"
   ]
  },
  {
   "cell_type": "markdown",
   "metadata": {
    "slideshow": {
     "slide_type": "slide"
    }
   },
   "source": [
    "<h1><center>Using A Fully Connected Network</center></h1>\n",
    "\n",
    "- Another simple approach is to use a fully connected network. Since it expects a flat list of features for each input, we need to add a Flatten layer.\n",
    "\n",
    "- Let’s just use a simple Linear Regression model so that each prediction will be a linear combination of the values in the time series:"
   ]
  },
  {
   "cell_type": "code",
   "execution_count": 69,
   "metadata": {
    "slideshow": {
     "slide_type": "skip"
    }
   },
   "outputs": [],
   "source": [
    "np.random.seed(42)\n",
    "tf.random.set_seed(42)"
   ]
  },
  {
   "cell_type": "code",
   "execution_count": 70,
   "metadata": {
    "slideshow": {
     "slide_type": "fragment"
    }
   },
   "outputs": [
    {
     "name": "stdout",
     "output_type": "stream",
     "text": [
      "Epoch 1/20\n",
      "219/219 [==============================] - 0s 1ms/step - loss: 0.1001 - val_loss: 0.0545\n",
      "Epoch 2/20\n",
      "219/219 [==============================] - 0s 900us/step - loss: 0.0379 - val_loss: 0.0266\n",
      "Epoch 3/20\n",
      "219/219 [==============================] - 0s 882us/step - loss: 0.0202 - val_loss: 0.0157\n",
      "Epoch 4/20\n",
      "219/219 [==============================] - 0s 914us/step - loss: 0.0131 - val_loss: 0.0116\n",
      "Epoch 5/20\n",
      "219/219 [==============================] - 0s 960us/step - loss: 0.0103 - val_loss: 0.0098\n",
      "Epoch 6/20\n",
      "219/219 [==============================] - 0s 1ms/step - loss: 0.0089 - val_loss: 0.0087\n",
      "Epoch 7/20\n",
      "219/219 [==============================] - 0s 871us/step - loss: 0.0080 - val_loss: 0.0079\n",
      "Epoch 8/20\n",
      "219/219 [==============================] - 0s 878us/step - loss: 0.0073 - val_loss: 0.0071\n",
      "Epoch 9/20\n",
      "219/219 [==============================] - 0s 893us/step - loss: 0.0066 - val_loss: 0.0066\n",
      "Epoch 10/20\n",
      "219/219 [==============================] - 0s 869us/step - loss: 0.0061 - val_loss: 0.0062\n",
      "Epoch 11/20\n",
      "219/219 [==============================] - 0s 866us/step - loss: 0.0057 - val_loss: 0.0057\n",
      "Epoch 12/20\n",
      "219/219 [==============================] - 0s 877us/step - loss: 0.0054 - val_loss: 0.0055\n",
      "Epoch 13/20\n",
      "219/219 [==============================] - 0s 871us/step - loss: 0.0052 - val_loss: 0.0052\n",
      "Epoch 14/20\n",
      "219/219 [==============================] - 0s 876us/step - loss: 0.0049 - val_loss: 0.0049\n",
      "Epoch 15/20\n",
      "219/219 [==============================] - 0s 880us/step - loss: 0.0048 - val_loss: 0.0048\n",
      "Epoch 16/20\n",
      "219/219 [==============================] - 0s 1ms/step - loss: 0.0046 - val_loss: 0.0048\n",
      "Epoch 17/20\n",
      "219/219 [==============================] - 0s 1ms/step - loss: 0.0045 - val_loss: 0.0045\n",
      "Epoch 18/20\n",
      "219/219 [==============================] - 0s 935us/step - loss: 0.0044 - val_loss: 0.0044\n",
      "Epoch 19/20\n",
      "219/219 [==============================] - 0s 881us/step - loss: 0.0043 - val_loss: 0.0043\n",
      "Epoch 20/20\n",
      "219/219 [==============================] - 0s 873us/step - loss: 0.0042 - val_loss: 0.0042\n"
     ]
    }
   ],
   "source": [
    "model = keras.models.Sequential([\n",
    "    keras.layers.Flatten(input_shape=[50, 1]),\n",
    "    keras.layers.Dense(1)\n",
    "])\n",
    "\n",
    "model.compile(loss=\"mse\", optimizer=\"adam\")\n",
    "history = model.fit(X_train, y_train, epochs=20,\n",
    "                    validation_data=(X_valid, y_valid))"
   ]
  },
  {
   "cell_type": "code",
   "execution_count": 71,
   "metadata": {
    "slideshow": {
     "slide_type": "slide"
    }
   },
   "outputs": [
    {
     "name": "stdout",
     "output_type": "stream",
     "text": [
      "63/63 [==============================] - 0s 642us/step - loss: 0.0042\n"
     ]
    },
    {
     "data": {
      "text/plain": [
       "0.004168085753917694"
      ]
     },
     "execution_count": 71,
     "metadata": {},
     "output_type": "execute_result"
    }
   ],
   "source": [
    "model.evaluate(X_valid, y_valid)"
   ]
  },
  {
   "cell_type": "code",
   "execution_count": 72,
   "metadata": {
    "slideshow": {
     "slide_type": "fragment"
    }
   },
   "outputs": [
    {
     "data": {
      "image/png": "[encoded data removed]",
      "text/plain": [
       "<Figure size 432x288 with 1 Axes>"
      ]
     },
     "metadata": {
      "needs_background": "light"
     },
     "output_type": "display_data"
    }
   ],
   "source": [
    "def plot_learning_curves(loss, val_loss):\n",
    "    plt.plot(np.arange(len(loss)) + 0.5, loss, \"b.-\", label=\"Training loss\")\n",
    "    plt.plot(np.arange(len(val_loss)) + 1, val_loss, \"r.-\", label=\"Validation loss\")\n",
    "    plt.gca().xaxis.set_major_locator(mpl.ticker.MaxNLocator(integer=True))\n",
    "    plt.axis([1, 20, 0, 0.05])\n",
    "    plt.legend(fontsize=14)\n",
    "    plt.xlabel(\"Epochs\")\n",
    "    plt.ylabel(\"Loss\")\n",
    "    plt.grid(True)\n",
    "\n",
    "plot_learning_curves(history.history[\"loss\"], history.history[\"val_loss\"])"
   ]
  },
  {
   "cell_type": "code",
   "execution_count": 73,
   "metadata": {
    "slideshow": {
     "slide_type": "slide"
    }
   },
   "outputs": [
    {
     "data": {
      "image/png": "[encoded data removed]",
      "text/plain": [
       "<Figure size 432x288 with 1 Axes>"
      ]
     },
     "metadata": {
      "needs_background": "light"
     },
     "output_type": "display_data"
    }
   ],
   "source": [
    "# And the prediction!\n",
    "y_pred = model.predict(X_valid)\n",
    "plot_series(X_valid[0, :, 0], y_valid[0, 0], y_pred[0, 0])"
   ]
  },
  {
   "cell_type": "markdown",
   "metadata": {
    "slideshow": {
     "slide_type": "slide"
    }
   },
   "source": [
    "<h1><center>Simple RNN</center></h1>\n",
    "\n",
    "- The following code is the simplest RNN you can build. It just contains a single layer, with a single neuron, as we saw in Figure 15-1.\n",
    "\n",
    "- We do not need to specify the length of the input sequences (unlike in the previous model), since a recurrent neural network can process any number of time steps, this is why we set the first input dimension to None.\n",
    "\n",
    "- By default, the SimpleRNN layer uses the hyperbolic tangent activation function.\n",
    "\n",
    "- It works exactly as we saw earlier: the initial state $h_{(init)}$ is set to 0, and it is passed to a single recurrent neuron, along with the value of the first time step, $x_{(0)}$.\n",
    "\n",
    "- The neuron computes a weighted sum of these values and applies the hyperbolic tangent activation function to the result, and this gives the first output, $y_0$.\n",
    "\n",
    "- In a simple RNN, this output is also the new state $h_0$.\n",
    "\n",
    "- This new state is passed to the same recurrent neuron along with the next input value, $x_{(1)}$, and the process is repeated until the last time step. Then the layer just outputs the last value, $y_{49}$.\n",
    "\n",
    "- All of this is performed simultaneously for every time series."
   ]
  },
  {
   "cell_type": "code",
   "execution_count": 74,
   "metadata": {
    "slideshow": {
     "slide_type": "skip"
    }
   },
   "outputs": [],
   "source": [
    "np.random.seed(42)\n",
    "tf.random.set_seed(42)"
   ]
  },
  {
   "cell_type": "code",
   "execution_count": 75,
   "metadata": {
    "slideshow": {
     "slide_type": "fragment"
    }
   },
   "outputs": [],
   "source": [
    "# Let’s see if we can beat the fully connected network with a simple RNN:\n",
    "model = keras.models.Sequential([\n",
    "    keras.layers.SimpleRNN(1, input_shape=[None, 1])\n",
    "])"
   ]
  },
  {
   "cell_type": "code",
   "execution_count": 76,
   "metadata": {
    "slideshow": {
     "slide_type": "slide"
    }
   },
   "outputs": [
    {
     "name": "stdout",
     "output_type": "stream",
     "text": [
      "Epoch 1/20\n",
      "219/219 [==============================] - 3s 13ms/step - loss: 0.0967 - val_loss: 0.0489\n",
      "Epoch 2/20\n",
      "219/219 [==============================] - 3s 12ms/step - loss: 0.0369 - val_loss: 0.0296\n",
      "Epoch 3/20\n",
      "219/219 [==============================] - 3s 12ms/step - loss: 0.0253 - val_loss: 0.0218\n",
      "Epoch 4/20\n",
      "219/219 [==============================] - 3s 12ms/step - loss: 0.0198 - val_loss: 0.0177\n",
      "Epoch 5/20\n",
      "219/219 [==============================] - 3s 12ms/step - loss: 0.0166 - val_loss: 0.0151\n",
      "Epoch 6/20\n",
      "219/219 [==============================] - 3s 12ms/step - loss: 0.0146 - val_loss: 0.0134\n",
      "Epoch 7/20\n",
      "219/219 [==============================] - 3s 12ms/step - loss: 0.0132 - val_loss: 0.0123\n",
      "Epoch 8/20\n",
      "219/219 [==============================] - 3s 12ms/step - loss: 0.0124 - val_loss: 0.0116\n",
      "Epoch 9/20\n",
      "219/219 [==============================] - 3s 13ms/step - loss: 0.0118 - val_loss: 0.0112\n",
      "Epoch 10/20\n",
      "219/219 [==============================] - 3s 12ms/step - loss: 0.0116 - val_loss: 0.0110\n",
      "Epoch 11/20\n",
      "219/219 [==============================] - 3s 12ms/step - loss: 0.0114 - val_loss: 0.0109\n",
      "Epoch 12/20\n",
      "219/219 [==============================] - 3s 12ms/step - loss: 0.0114 - val_loss: 0.0109\n",
      "Epoch 13/20\n",
      "219/219 [==============================] - 3s 13ms/step - loss: 0.0114 - val_loss: 0.0109\n",
      "Epoch 14/20\n",
      "219/219 [==============================] - 3s 12ms/step - loss: 0.0114 - val_loss: 0.0109\n",
      "Epoch 15/20\n",
      "219/219 [==============================] - 3s 12ms/step - loss: 0.0114 - val_loss: 0.0109\n",
      "Epoch 16/20\n",
      "219/219 [==============================] - 3s 13ms/step - loss: 0.0114 - val_loss: 0.0109\n",
      "Epoch 17/20\n",
      "219/219 [==============================] - 3s 12ms/step - loss: 0.0114 - val_loss: 0.0109\n",
      "Epoch 18/20\n",
      "219/219 [==============================] - 3s 12ms/step - loss: 0.0114 - val_loss: 0.0109\n",
      "Epoch 19/20\n",
      "219/219 [==============================] - 3s 12ms/step - loss: 0.0114 - val_loss: 0.0109\n",
      "Epoch 20/20\n",
      "219/219 [==============================] - 3s 12ms/step - loss: 0.0114 - val_loss: 0.0109\n"
     ]
    }
   ],
   "source": [
    "optimizer = keras.optimizers.Adam(lr=0.005)\n",
    "model.compile(loss=\"mse\", optimizer=optimizer)\n",
    "history = model.fit(X_train, y_train, epochs=20,\n",
    "                    validation_data=(X_valid, y_valid))"
   ]
  },
  {
   "cell_type": "code",
   "execution_count": 77,
   "metadata": {
    "slideshow": {
     "slide_type": "slide"
    }
   },
   "outputs": [
    {
     "name": "stdout",
     "output_type": "stream",
     "text": [
      "63/63 [==============================] - 0s 3ms/step - loss: 0.0109\n"
     ]
    },
    {
     "data": {
      "text/plain": [
       "0.010881561785936356"
      ]
     },
     "execution_count": 77,
     "metadata": {},
     "output_type": "execute_result"
    }
   ],
   "source": [
    "# Better than the naive approach but not better than the fully connected NN, because it's too simple!\n",
    "model.evaluate(X_valid, y_valid)"
   ]
  },
  {
   "cell_type": "code",
   "execution_count": 78,
   "metadata": {
    "slideshow": {
     "slide_type": "fragment"
    }
   },
   "outputs": [
    {
     "data": {
      "image/png": "[encoded data removed]",
      "text/plain": [
       "<Figure size 432x288 with 1 Axes>"
      ]
     },
     "metadata": {
      "needs_background": "light"
     },
     "output_type": "display_data"
    }
   ],
   "source": [
    "plot_learning_curves(history.history[\"loss\"], history.history[\"val_loss\"])"
   ]
  },
  {
   "cell_type": "code",
   "execution_count": 79,
   "metadata": {
    "slideshow": {
     "slide_type": "slide"
    }
   },
   "outputs": [
    {
     "data": {
      "image/png": "[encoded data removed]",
      "text/plain": [
       "<Figure size 432x288 with 1 Axes>"
      ]
     },
     "metadata": {
      "needs_background": "light"
     },
     "output_type": "display_data"
    }
   ],
   "source": [
    "# And the prediction!\n",
    "y_pred = model.predict(X_valid)\n",
    "plot_series(X_valid[0, :, 0], y_valid[0, 0], y_pred[0, 0])"
   ]
  },
  {
   "cell_type": "markdown",
   "metadata": {
    "slideshow": {
     "slide_type": "slide"
    }
   },
   "source": [
    "<h1><center>Analysis of Simple RNN</center></h1>\n",
    "\n",
    "- So simple RNN is better than the naive approach but it does not beat a simple linear model. Note that for each neuron, a linear model has one parameter per input and per time step, plus a bias term (in the simple linear model we used, that’s a total of 51 parameters).\n",
    "\n",
    "\n",
    "- In contrast, for each recurrent neuron in a simple RNN, there is just one parameter per input and per hidden state dimension (in a simple RNN, that’s just the number of recurrent neurons in the layer), plus a bias term. In this simple RNN, that’s a total of just three parameters.\n",
    "\n",
    "\n",
    "- Apparently our simple RNN was too simple to get good performance. So more recurrent layers might be needed!"
   ]
  },
  {
   "cell_type": "markdown",
   "metadata": {
    "slideshow": {
     "slide_type": "slide"
    }
   },
   "source": [
    "<h1><center>Trend and Seasonality</center></h1>\n",
    "\n",
    "- There are many other models to forecast time series, such as weighted moving average models or autoregressive integrated moving average (ARIMA) models.\n",
    "\n",
    "\n",
    "- Some of them require you to first remove the **trend** and **seasonality**.\n",
    "\n",
    "\n",
    "- For example, if you are studying the number of active users on your website, and it is growing by 10% every month, you would have to remove this trend from the time series.\n",
    "\n",
    "\n",
    "- Once the model is trained and starts making predictions, you would have to add the trend back to get the final predictions."
   ]
  },
  {
   "cell_type": "markdown",
   "metadata": {
    "slideshow": {
     "slide_type": "slide"
    }
   },
   "source": [
    "<h1><center>Trend and Seasonality Cont.</center></h1>\n",
    "\n",
    "- Similarly, if you are trying to predict the amount of sunscreen lotion sold every month, you will probably observe strong **seasonality**: since it sells well every summer, a similar pattern will be repeated every year. \n",
    "\n",
    "\n",
    "- You would have to remove this **seasonality** from the time series, for example by computing the difference between the value at each time step and the value one year earlier - this technique is called **differencing**.\n",
    "\n",
    "\n",
    "- Again, after the model is trained and makes predictions, you would have to add the seasonal pattern back to get the final predictions.\n",
    "\n",
    "\n",
    "- When using RNNs, it is generally not necessary to do all this, but it may improve performance in some cases, since the model will not have to learn the **trend** or the **seasonality**."
   ]
  },
  {
   "cell_type": "markdown",
   "metadata": {
    "slideshow": {
     "slide_type": "slide"
    }
   },
   "source": [
    "<h1><center>Deep RNN</center></h1>\n",
    "\n",
    "- It is quite common to stack multiple layers of cells, as shown in Figure 15-7. This gives you a **deep RNN**.\n",
    "\n",
    "<center><img src=\"img/fig-15-7.png\" align=\"center\"/></center>\n",
    "\n",
    "<font size='1'>Image from Ref[1]</font>"
   ]
  },
  {
   "cell_type": "markdown",
   "metadata": {
    "slideshow": {
     "slide_type": "slide"
    }
   },
   "source": [
    "<h1><center>Implementing Deep RNN</center></h1>\n",
    "\n",
    "- Implementing a **deep RNN** with `tf.keras` is quite simple: just stack recurrent layers.\n",
    "\n",
    "- In this example, we use three `SimpleRNN` layers but we could add any other type of recurrent layer, such as an **LSTM** layer or a **GRU** layer, (which we will discuss shortly):"
   ]
  },
  {
   "cell_type": "code",
   "execution_count": 80,
   "metadata": {
    "slideshow": {
     "slide_type": "skip"
    }
   },
   "outputs": [],
   "source": [
    "np.random.seed(42)\n",
    "tf.random.set_seed(42)"
   ]
  },
  {
   "cell_type": "code",
   "execution_count": 81,
   "metadata": {
    "slideshow": {
     "slide_type": "fragment"
    }
   },
   "outputs": [],
   "source": [
    "''' Make sure to set return_sequences=True for all recurrent layers\n",
    "(except the last one, if you only care about the last output).\n",
    "If you don’t, they will output a 2D array (containing only the output of the last time step)\n",
    "instead of a 3D array (containing outputs for all time steps),\n",
    "and the next recurrent layer will complain that you are not feeding it sequences in the expected 3D format. '''\n",
    "model = keras.models.Sequential([\n",
    "    keras.layers.SimpleRNN(20, return_sequences=True, input_shape=[None, 1]),\n",
    "    keras.layers.SimpleRNN(20, return_sequences=True),\n",
    "    keras.layers.SimpleRNN(1)\n",
    "])"
   ]
  },
  {
   "cell_type": "code",
   "execution_count": 82,
   "metadata": {
    "slideshow": {
     "slide_type": "slide"
    }
   },
   "outputs": [
    {
     "name": "stdout",
     "output_type": "stream",
     "text": [
      "Epoch 1/20\n",
      "219/219 [==============================] - 9s 41ms/step - loss: 0.0492 - val_loss: 0.0090\n",
      "Epoch 2/20\n",
      "219/219 [==============================] - 9s 40ms/step - loss: 0.0070 - val_loss: 0.0065\n",
      "Epoch 3/20\n",
      "219/219 [==============================] - 9s 41ms/step - loss: 0.0053 - val_loss: 0.0045\n",
      "Epoch 4/20\n",
      "219/219 [==============================] - 9s 40ms/step - loss: 0.0045 - val_loss: 0.0040\n",
      "Epoch 5/20\n",
      "219/219 [==============================] - 9s 41ms/step - loss: 0.0042 - val_loss: 0.0040\n",
      "Epoch 6/20\n",
      "219/219 [==============================] - 9s 41ms/step - loss: 0.0038 - val_loss: 0.0036\n",
      "Epoch 7/20\n",
      "219/219 [==============================] - 9s 40ms/step - loss: 0.0038 - val_loss: 0.0040\n",
      "Epoch 8/20\n",
      "219/219 [==============================] - 9s 41ms/step - loss: 0.0037 - val_loss: 0.0033\n",
      "Epoch 9/20\n",
      "219/219 [==============================] - 9s 40ms/step - loss: 0.0036 - val_loss: 0.0032\n",
      "Epoch 10/20\n",
      "219/219 [==============================] - 9s 41ms/step - loss: 0.0035 - val_loss: 0.0031\n",
      "Epoch 11/20\n",
      "219/219 [==============================] - 9s 40ms/step - loss: 0.0034 - val_loss: 0.0030\n",
      "Epoch 12/20\n",
      "219/219 [==============================] - 9s 40ms/step - loss: 0.0033 - val_loss: 0.0031\n",
      "Epoch 13/20\n",
      "219/219 [==============================] - 9s 40ms/step - loss: 0.0034 - val_loss: 0.0031\n",
      "Epoch 14/20\n",
      "219/219 [==============================] - 9s 40ms/step - loss: 0.0033 - val_loss: 0.0032\n",
      "Epoch 15/20\n",
      "219/219 [==============================] - 9s 40ms/step - loss: 0.0034 - val_loss: 0.0033\n",
      "Epoch 16/20\n",
      "219/219 [==============================] - 9s 40ms/step - loss: 0.0035 - val_loss: 0.0030\n",
      "Epoch 17/20\n",
      "219/219 [==============================] - 9s 40ms/step - loss: 0.0033 - val_loss: 0.0029\n",
      "Epoch 18/20\n",
      "219/219 [==============================] - 9s 41ms/step - loss: 0.0033 - val_loss: 0.0030\n",
      "Epoch 19/20\n",
      "219/219 [==============================] - 9s 40ms/step - loss: 0.0032 - val_loss: 0.0029\n",
      "Epoch 20/20\n",
      "219/219 [==============================] - 9s 40ms/step - loss: 0.0032 - val_loss: 0.0029\n"
     ]
    }
   ],
   "source": [
    "model.compile(loss=\"mse\", optimizer=\"adam\")\n",
    "history = model.fit(X_train, y_train, epochs=20,\n",
    "                    validation_data=(X_valid, y_valid))"
   ]
  },
  {
   "cell_type": "code",
   "execution_count": 83,
   "metadata": {
    "slideshow": {
     "slide_type": "slide"
    }
   },
   "outputs": [
    {
     "name": "stdout",
     "output_type": "stream",
     "text": [
      "63/63 [==============================] - 1s 8ms/step - loss: 0.0029\n"
     ]
    },
    {
     "data": {
      "text/plain": [
       "0.0029105604626238346"
      ]
     },
     "execution_count": 83,
     "metadata": {},
     "output_type": "execute_result"
    }
   ],
   "source": [
    "# We finally managed to beat the linear model!\n",
    "model.evaluate(X_valid, y_valid)"
   ]
  },
  {
   "cell_type": "code",
   "execution_count": 84,
   "metadata": {
    "slideshow": {
     "slide_type": "fragment"
    }
   },
   "outputs": [
    {
     "data": {
      "image/png": "[encoded data removed]",
      "text/plain": [
       "<Figure size 432x288 with 1 Axes>"
      ]
     },
     "metadata": {
      "needs_background": "light"
     },
     "output_type": "display_data"
    }
   ],
   "source": [
    "plot_learning_curves(history.history[\"loss\"], history.history[\"val_loss\"])"
   ]
  },
  {
   "cell_type": "code",
   "execution_count": 85,
   "metadata": {
    "slideshow": {
     "slide_type": "fragment"
    }
   },
   "outputs": [
    {
     "data": {
      "image/png": "[encoded data removed]",
      "text/plain": [
       "<Figure size 432x288 with 1 Axes>"
      ]
     },
     "metadata": {
      "needs_background": "light"
     },
     "output_type": "display_data"
    }
   ],
   "source": [
    "y_pred = model.predict(X_valid)\n",
    "plot_series(X_valid[0, :, 0], y_valid[0, 0], y_pred[0, 0])"
   ]
  },
  {
   "cell_type": "markdown",
   "metadata": {
    "slideshow": {
     "slide_type": "slide"
    }
   },
   "source": [
    "<h1><center>Another Version of Deep RNN</center></h1>\n",
    "\n",
    "- Note that the last layer is not ideal: it must have a single unit because we want to forecast a univariate time series, and this means we must have a single output value per time step.\n",
    "\n",
    "- However, having a single unit means that the hidden state is just a single number.\n",
    "\n",
    "- That’s really not much, and it’s probably not that useful; presumably, the RNN will mostly use the hidden states of the other recurrent layers to carry over all the information it needs from time step to time step, and it will not use the final layer’s hidden state very much.\n",
    "\n",
    "- Moreover, since a `SimpleRNN` layer uses the tanh activation function by default, the predicted values must lie within the range –1 to 1.\n",
    "\n",
    "- But what if you want to use another activation function? For both these reasons, it might be preferable to replace the output layer with a Dense layer: it would run slightly faster, the accuracy would be roughly the same, and it would allow us to choose any output activation function we want.\n",
    "\n",
    "- If you make this change, also make sure to remove `return_sequences=True` from the second (now last) recurrent layer:"
   ]
  },
  {
   "cell_type": "code",
   "execution_count": 86,
   "metadata": {
    "slideshow": {
     "slide_type": "skip"
    }
   },
   "outputs": [],
   "source": [
    "np.random.seed(42)\n",
    "tf.random.set_seed(42)"
   ]
  },
  {
   "cell_type": "code",
   "execution_count": 87,
   "metadata": {
    "slideshow": {
     "slide_type": "fragment"
    }
   },
   "outputs": [],
   "source": [
    "model = keras.models.Sequential([\n",
    "    keras.layers.SimpleRNN(20, return_sequences=True, input_shape=[None, 1]),\n",
    "    keras.layers.SimpleRNN(20),\n",
    "    keras.layers.Dense(1)\n",
    "])"
   ]
  },
  {
   "cell_type": "code",
   "execution_count": 88,
   "metadata": {
    "slideshow": {
     "slide_type": "slide"
    }
   },
   "outputs": [
    {
     "name": "stdout",
     "output_type": "stream",
     "text": [
      "Epoch 1/20\n",
      "219/219 [==============================] - 6s 27ms/step - loss: 0.0232 - val_loss: 0.0052\n",
      "Epoch 2/20\n",
      "219/219 [==============================] - 6s 28ms/step - loss: 0.0043 - val_loss: 0.0036\n",
      "Epoch 3/20\n",
      "219/219 [==============================] - 6s 27ms/step - loss: 0.0035 - val_loss: 0.0031\n",
      "Epoch 4/20\n",
      "219/219 [==============================] - 6s 27ms/step - loss: 0.0033 - val_loss: 0.0033\n",
      "Epoch 5/20\n",
      "219/219 [==============================] - 6s 28ms/step - loss: 0.0033 - val_loss: 0.0034\n",
      "Epoch 6/20\n",
      "219/219 [==============================] - 6s 27ms/step - loss: 0.0031 - val_loss: 0.0029\n",
      "Epoch 7/20\n",
      "219/219 [==============================] - 6s 27ms/step - loss: 0.0031 - val_loss: 0.0034\n",
      "Epoch 8/20\n",
      "219/219 [==============================] - 6s 27ms/step - loss: 0.0032 - val_loss: 0.0028\n",
      "Epoch 9/20\n",
      "219/219 [==============================] - 6s 28ms/step - loss: 0.0031 - val_loss: 0.0028\n",
      "Epoch 10/20\n",
      "219/219 [==============================] - 6s 27ms/step - loss: 0.0030 - val_loss: 0.0029\n",
      "Epoch 11/20\n",
      "219/219 [==============================] - 6s 27ms/step - loss: 0.0029 - val_loss: 0.0027\n",
      "Epoch 12/20\n",
      "219/219 [==============================] - 6s 27ms/step - loss: 0.0030 - val_loss: 0.0031\n",
      "Epoch 13/20\n",
      "219/219 [==============================] - 6s 27ms/step - loss: 0.0030 - val_loss: 0.0031\n",
      "Epoch 14/20\n",
      "219/219 [==============================] - 6s 28ms/step - loss: 0.0030 - val_loss: 0.0030\n",
      "Epoch 15/20\n",
      "219/219 [==============================] - 6s 27ms/step - loss: 0.0030 - val_loss: 0.0030\n",
      "Epoch 16/20\n",
      "219/219 [==============================] - 6s 27ms/step - loss: 0.0030 - val_loss: 0.0027\n",
      "Epoch 17/20\n",
      "219/219 [==============================] - 6s 26ms/step - loss: 0.0029 - val_loss: 0.0028\n",
      "Epoch 18/20\n",
      "219/219 [==============================] - 6s 27ms/step - loss: 0.0030 - val_loss: 0.0027\n",
      "Epoch 19/20\n",
      "219/219 [==============================] - 6s 28ms/step - loss: 0.0029 - val_loss: 0.0028\n",
      "Epoch 20/20\n",
      "219/219 [==============================] - 6s 26ms/step - loss: 0.0029 - val_loss: 0.0026\n"
     ]
    }
   ],
   "source": [
    "'''If you train this model, you will see that it converges faster and performs just as well.\n",
    "Plus, you could change the output activation function if you wanted.'''\n",
    "model.compile(loss=\"mse\", optimizer=\"adam\")\n",
    "history = model.fit(X_train, y_train, epochs=20,\n",
    "                    validation_data=(X_valid, y_valid))"
   ]
  },
  {
   "cell_type": "code",
   "execution_count": 89,
   "metadata": {
    "slideshow": {
     "slide_type": "slide"
    }
   },
   "outputs": [
    {
     "name": "stdout",
     "output_type": "stream",
     "text": [
      "63/63 [==============================] - 0s 7ms/step - loss: 0.0026\n"
     ]
    },
    {
     "data": {
      "text/plain": [
       "0.002623624401167035"
      ]
     },
     "execution_count": 89,
     "metadata": {},
     "output_type": "execute_result"
    }
   ],
   "source": [
    "model.evaluate(X_valid, y_valid)"
   ]
  },
  {
   "cell_type": "code",
   "execution_count": 90,
   "metadata": {
    "slideshow": {
     "slide_type": "fragment"
    }
   },
   "outputs": [
    {
     "data": {
      "image/png": "[encoded data removed]",
      "text/plain": [
       "<Figure size 432x288 with 1 Axes>"
      ]
     },
     "metadata": {
      "needs_background": "light"
     },
     "output_type": "display_data"
    }
   ],
   "source": [
    "plot_learning_curves(history.history[\"loss\"], history.history[\"val_loss\"])"
   ]
  },
  {
   "cell_type": "code",
   "execution_count": 91,
   "metadata": {
    "slideshow": {
     "slide_type": "fragment"
    }
   },
   "outputs": [
    {
     "data": {
      "image/png": "[encoded data removed]",
      "text/plain": [
       "<Figure size 432x288 with 1 Axes>"
      ]
     },
     "metadata": {
      "needs_background": "light"
     },
     "output_type": "display_data"
    }
   ],
   "source": [
    "y_pred = model.predict(X_valid)\n",
    "plot_series(X_valid[0, :, 0], y_valid[0, 0], y_pred[0, 0])"
   ]
  },
  {
   "cell_type": "markdown",
   "metadata": {
    "slideshow": {
     "slide_type": "slide"
    }
   },
   "source": [
    "<h1><center>Forecasting Several Steps Ahead - 1st Option</center></h1>\n",
    "\n",
    "- So far we have only predicted the value at the next time step, but we could just as easily have predicted the value several steps ahead by changing the targets appropriately (e.g., to predict 10 steps ahead, just change the targets to be the value 10 steps head instead of 1 step ahead). But what if we want to predict the next 10 values?\n",
    "\n",
    "- The first option is to use the model we already trained, make it predict the next value, then add that value to the inputs (acting as if this predicted value had actually occurred), and use the model again to predict the following value, and so on, as in the following code:"
   ]
  },
  {
   "cell_type": "code",
   "execution_count": 92,
   "metadata": {
    "slideshow": {
     "slide_type": "skip"
    }
   },
   "outputs": [],
   "source": [
    "np.random.seed(43) # not 42, as it would give the first series in the train set"
   ]
  },
  {
   "cell_type": "code",
   "execution_count": 93,
   "metadata": {
    "slideshow": {
     "slide_type": "fragment"
    }
   },
   "outputs": [],
   "source": [
    "# Predicting one at a time\n",
    "series = generate_time_series(1, n_steps + 10)\n",
    "X_new, Y_new = series[:, :n_steps], series[:, n_steps:]\n",
    "X = X_new\n",
    "for step_ahead in range(10):\n",
    "    y_pred_one = model.predict(X[:, step_ahead:])[:, np.newaxis, :]\n",
    "    X = np.concatenate([X, y_pred_one], axis=1)\n",
    "Y_pred = X[:, n_steps:]"
   ]
  },
  {
   "cell_type": "code",
   "execution_count": 94,
   "metadata": {
    "slideshow": {
     "slide_type": "slide"
    }
   },
   "outputs": [
    {
     "data": {
      "image/png": "[encoded data removed]",
      "text/plain": [
       "<Figure size 432x288 with 1 Axes>"
      ]
     },
     "metadata": {
      "needs_background": "light"
     },
     "output_type": "display_data"
    }
   ],
   "source": [
    "def plot_multiple_forecasts(X, Y, Y_pred):\n",
    "    n_steps = X.shape[1]\n",
    "    ahead = Y.shape[1]\n",
    "    plot_series(X[0, :, 0])\n",
    "    plt.plot(np.arange(n_steps, n_steps + ahead), Y[0, :, 0], \"ro-\", label=\"Actual\")\n",
    "    plt.plot(np.arange(n_steps, n_steps + ahead), Y_pred[0, :, 0], \"bx-\", label=\"Forecast\", markersize=10)\n",
    "    plt.axis([0, n_steps + ahead, -1, 1])\n",
    "    plt.legend(fontsize=14)\n",
    "\n",
    "plot_multiple_forecasts(X_new, Y_new, Y_pred)"
   ]
  },
  {
   "cell_type": "markdown",
   "metadata": {
    "slideshow": {
     "slide_type": "slide"
    }
   },
   "source": [
    "<h1><center>Forecasting Several Steps Ahead - 1st Option</center></h1>\n",
    "\n",
    "- As you might expect, the prediction for the next step will usually be more accurate than the predictions for later time steps, since the errors might accumulate (as you can see in Figure 15-8).\n",
    "\n",
    "<center><img src=\"img/fig-15-8.png\" align=\"center\"/></center>\n",
    "\n",
    "<font size='1'>Image from Ref[1]</font>"
   ]
  },
  {
   "cell_type": "markdown",
   "metadata": {
    "slideshow": {
     "slide_type": "slide"
    }
   },
   "source": [
    "<h1><center>1st Option Approach Evaluation</center></h1>\n",
    "\n",
    "- If you evaluate this approach on the validation set, you will find an MSE of about 0.027. This is much higher than the previous models, but it’s also a much harder task, so the comparison doesn’t mean much.\n",
    "\n",
    "\n",
    "- It’s much more meaningful to compare this performance with naive predictions (just forecasting that the time series will remain constant for 10 time steps) or with a simple linear model.\n",
    "\n",
    "\n",
    "- The naive approach is terrible (it gives an MSE of about 0.223), but the linear model gives an MSE of about 0.0187: it’s much better than using our RNN to forecast the future one step at a time, and also much faster to train and run. Still, if you only want to forecast a few time steps ahead, on more complex tasks, this approach may work well."
   ]
  },
  {
   "cell_type": "code",
   "execution_count": 95,
   "metadata": {
    "slideshow": {
     "slide_type": "skip"
    }
   },
   "outputs": [],
   "source": [
    "np.random.seed(42)"
   ]
  },
  {
   "cell_type": "code",
   "execution_count": 96,
   "metadata": {
    "slideshow": {
     "slide_type": "slide"
    }
   },
   "outputs": [],
   "source": [
    "# Now let's use this model to predict the next 10 values.\n",
    "# We first need to regenerate the sequences with 9 more time steps.\n",
    "# We need to change the targets to be vectors containing the next 10 values:\n",
    "n_steps = 50\n",
    "series = generate_time_series(10000, n_steps + 10)\n",
    "X_train, Y_train = series[:7000, :n_steps], series[:7000, -10:, 0]\n",
    "X_valid, Y_valid = series[7000:9000, :n_steps], series[7000:9000, -10:, 0]\n",
    "X_test, Y_test = series[9000:, :n_steps], series[9000:, -10:, 0]"
   ]
  },
  {
   "cell_type": "code",
   "execution_count": 97,
   "metadata": {
    "slideshow": {
     "slide_type": "slide"
    }
   },
   "outputs": [
    {
     "data": {
      "text/plain": [
       "(2000, 10)"
      ]
     },
     "execution_count": 97,
     "metadata": {},
     "output_type": "execute_result"
    }
   ],
   "source": [
    "# Now let's predict the next 10 values one by one:\n",
    "X = X_valid\n",
    "for step_ahead in range(10):\n",
    "    y_pred_one = model.predict(X)[:, np.newaxis, :]\n",
    "    X = np.concatenate([X, y_pred_one], axis=1)\n",
    "\n",
    "Y_pred = X[:, n_steps:, 0]\n",
    "Y_pred.shape"
   ]
  },
  {
   "cell_type": "code",
   "execution_count": 99,
   "metadata": {
    "slideshow": {
     "slide_type": "fragment"
    }
   },
   "outputs": [
    {
     "data": {
      "text/plain": [
       "0.027510803"
      ]
     },
     "execution_count": 99,
     "metadata": {},
     "output_type": "execute_result"
    }
   ],
   "source": [
    "np.mean(keras.metrics.mean_squared_error(Y_valid, Y_pred))"
   ]
  },
  {
   "cell_type": "code",
   "execution_count": 100,
   "metadata": {
    "slideshow": {
     "slide_type": "slide"
    }
   },
   "outputs": [
    {
     "data": {
      "text/plain": [
       "0.22278848"
      ]
     },
     "execution_count": 100,
     "metadata": {},
     "output_type": "execute_result"
    }
   ],
   "source": [
    "# Let's compare this performance with some baselines: naive predictions and a simple linear model:\n",
    "Y_naive_pred = Y_valid[:, -1:]\n",
    "np.mean(keras.metrics.mean_squared_error(Y_valid, Y_naive_pred))"
   ]
  },
  {
   "cell_type": "code",
   "execution_count": 101,
   "metadata": {
    "slideshow": {
     "slide_type": "skip"
    }
   },
   "outputs": [],
   "source": [
    "np.random.seed(42)"
   ]
  },
  {
   "cell_type": "code",
   "execution_count": 102,
   "metadata": {
    "slideshow": {
     "slide_type": "slide"
    }
   },
   "outputs": [
    {
     "name": "stdout",
     "output_type": "stream",
     "text": [
      "Epoch 1/20\n",
      "219/219 [==============================] - 0s 1ms/step - loss: 0.1202 - val_loss: 0.0634\n",
      "Epoch 2/20\n",
      "219/219 [==============================] - 0s 931us/step - loss: 0.0521 - val_loss: 0.0443\n",
      "Epoch 3/20\n",
      "219/219 [==============================] - 0s 930us/step - loss: 0.0400 - val_loss: 0.0360\n",
      "Epoch 4/20\n",
      "219/219 [==============================] - 0s 942us/step - loss: 0.0337 - val_loss: 0.0312\n",
      "Epoch 5/20\n",
      "219/219 [==============================] - 0s 944us/step - loss: 0.0299 - val_loss: 0.0281\n",
      "Epoch 6/20\n",
      "219/219 [==============================] - 0s 954us/step - loss: 0.0272 - val_loss: 0.0262\n",
      "Epoch 7/20\n",
      "219/219 [==============================] - 0s 961us/step - loss: 0.0255 - val_loss: 0.0246\n",
      "Epoch 8/20\n",
      "219/219 [==============================] - 0s 958us/step - loss: 0.0243 - val_loss: 0.0235\n",
      "Epoch 9/20\n",
      "219/219 [==============================] - 0s 943us/step - loss: 0.0233 - val_loss: 0.0228\n",
      "Epoch 10/20\n",
      "219/219 [==============================] - 0s 982us/step - loss: 0.0226 - val_loss: 0.0221\n",
      "Epoch 11/20\n",
      "219/219 [==============================] - 0s 963us/step - loss: 0.0220 - val_loss: 0.0216\n",
      "Epoch 12/20\n",
      "219/219 [==============================] - 0s 948us/step - loss: 0.0214 - val_loss: 0.0212\n",
      "Epoch 13/20\n",
      "219/219 [==============================] - 0s 966us/step - loss: 0.0210 - val_loss: 0.0207\n",
      "Epoch 14/20\n",
      "219/219 [==============================] - 0s 964us/step - loss: 0.0206 - val_loss: 0.0207\n",
      "Epoch 15/20\n",
      "219/219 [==============================] - 0s 973us/step - loss: 0.0203 - val_loss: 0.0201\n",
      "Epoch 16/20\n",
      "219/219 [==============================] - 0s 1ms/step - loss: 0.0199 - val_loss: 0.0198\n",
      "Epoch 17/20\n",
      "219/219 [==============================] - 0s 1ms/step - loss: 0.0196 - val_loss: 0.0194\n",
      "Epoch 18/20\n",
      "219/219 [==============================] - 0s 946us/step - loss: 0.0193 - val_loss: 0.0191\n",
      "Epoch 19/20\n",
      "219/219 [==============================] - 0s 1ms/step - loss: 0.0190 - val_loss: 0.0189\n",
      "Epoch 20/20\n",
      "219/219 [==============================] - 0s 1ms/step - loss: 0.0188 - val_loss: 0.0187\n"
     ]
    }
   ],
   "source": [
    "# Simple linear model\n",
    "model = keras.models.Sequential([\n",
    "    keras.layers.Flatten(input_shape=[50, 1]),\n",
    "    keras.layers.Dense(10)\n",
    "])\n",
    "\n",
    "model.compile(loss=\"mse\", optimizer=\"adam\")\n",
    "history = model.fit(X_train, Y_train, epochs=20,\n",
    "                    validation_data=(X_valid, Y_valid))"
   ]
  },
  {
   "cell_type": "markdown",
   "metadata": {
    "slideshow": {
     "slide_type": "slide"
    }
   },
   "source": [
    "<h1><center>Forecasting Several Steps Ahead - 2nd Option</center></h1>\n",
    "\n",
    "- The second option is to train an RNN to predict all 10 next values at once.\n",
    "\n",
    "- We can still use a sequence-to-vector model, but it will output 10 values instead of 1.\n",
    "\n",
    "- Now we just need the output layer to have 10 units instead of 1:"
   ]
  },
  {
   "cell_type": "code",
   "execution_count": 103,
   "metadata": {
    "slideshow": {
     "slide_type": "skip"
    }
   },
   "outputs": [],
   "source": [
    "np.random.seed(42)\n",
    "tf.random.set_seed(42)"
   ]
  },
  {
   "cell_type": "code",
   "execution_count": 104,
   "metadata": {
    "slideshow": {
     "slide_type": "fragment"
    }
   },
   "outputs": [],
   "source": [
    "# Now let's create an RNN that predicts all 10 next values at once:\n",
    "model = keras.models.Sequential([\n",
    "    keras.layers.SimpleRNN(20, return_sequences=True, input_shape=[None, 1]),\n",
    "    keras.layers.SimpleRNN(20),\n",
    "    keras.layers.Dense(10)\n",
    "])"
   ]
  },
  {
   "cell_type": "code",
   "execution_count": 105,
   "metadata": {
    "slideshow": {
     "slide_type": "slide"
    }
   },
   "outputs": [
    {
     "name": "stdout",
     "output_type": "stream",
     "text": [
      "Epoch 1/20\n",
      "219/219 [==============================] - 6s 28ms/step - loss: 0.0669 - val_loss: 0.0317\n",
      "Epoch 2/20\n",
      "219/219 [==============================] - 6s 27ms/step - loss: 0.0265 - val_loss: 0.0200\n",
      "Epoch 3/20\n",
      "219/219 [==============================] - 6s 28ms/step - loss: 0.0183 - val_loss: 0.0160\n",
      "Epoch 4/20\n",
      "219/219 [==============================] - 6s 27ms/step - loss: 0.0155 - val_loss: 0.0144\n",
      "Epoch 5/20\n",
      "219/219 [==============================] - 6s 27ms/step - loss: 0.0139 - val_loss: 0.0118\n",
      "Epoch 6/20\n",
      "219/219 [==============================] - 6s 27ms/step - loss: 0.0128 - val_loss: 0.0112\n",
      "Epoch 7/20\n",
      "219/219 [==============================] - 6s 28ms/step - loss: 0.0122 - val_loss: 0.0110\n",
      "Epoch 8/20\n",
      "219/219 [==============================] - 6s 28ms/step - loss: 0.0115 - val_loss: 0.0103\n",
      "Epoch 9/20\n",
      "219/219 [==============================] - 6s 28ms/step - loss: 0.0111 - val_loss: 0.0112\n",
      "Epoch 10/20\n",
      "219/219 [==============================] - 6s 28ms/step - loss: 0.0110 - val_loss: 0.0100\n",
      "Epoch 11/20\n",
      "219/219 [==============================] - 6s 28ms/step - loss: 0.0108 - val_loss: 0.0103\n",
      "Epoch 12/20\n",
      "219/219 [==============================] - 6s 27ms/step - loss: 0.0102 - val_loss: 0.0096\n",
      "Epoch 13/20\n",
      "219/219 [==============================] - 6s 27ms/step - loss: 0.0104 - val_loss: 0.0100\n",
      "Epoch 14/20\n",
      "219/219 [==============================] - 6s 29ms/step - loss: 0.0098 - val_loss: 0.0103\n",
      "Epoch 15/20\n",
      "219/219 [==============================] - 6s 27ms/step - loss: 0.0095 - val_loss: 0.0107\n",
      "Epoch 16/20\n",
      "219/219 [==============================] - 6s 27ms/step - loss: 0.0092 - val_loss: 0.0089\n",
      "Epoch 17/20\n",
      "219/219 [==============================] - 6s 28ms/step - loss: 0.0094 - val_loss: 0.0111\n",
      "Epoch 18/20\n",
      "219/219 [==============================] - 6s 27ms/step - loss: 0.0095 - val_loss: 0.0094\n",
      "Epoch 19/20\n",
      "219/219 [==============================] - 6s 27ms/step - loss: 0.0093 - val_loss: 0.0083\n",
      "Epoch 20/20\n",
      "219/219 [==============================] - 6s 28ms/step - loss: 0.0094 - val_loss: 0.0085\n"
     ]
    }
   ],
   "source": [
    "'''After training this model, you can predict the next 10 values at once very easily\n",
    "This model works nicely: the MSE for the next 10 time steps is about 0.0085.\n",
    "That’smuch better than the linear model.'''\n",
    "model.compile(loss=\"mse\", optimizer=\"adam\")\n",
    "history = model.fit(X_train, Y_train, epochs=20,\n",
    "                    validation_data=(X_valid, Y_valid))"
   ]
  },
  {
   "cell_type": "code",
   "execution_count": 106,
   "metadata": {
    "slideshow": {
     "slide_type": "skip"
    }
   },
   "outputs": [],
   "source": [
    "np.random.seed(43)"
   ]
  },
  {
   "cell_type": "code",
   "execution_count": 107,
   "metadata": {
    "slideshow": {
     "slide_type": "slide"
    }
   },
   "outputs": [
    {
     "data": {
      "image/png": "[encoded data removed]",
      "text/plain": [
       "<Figure size 432x288 with 1 Axes>"
      ]
     },
     "metadata": {
      "needs_background": "light"
     },
     "output_type": "display_data"
    }
   ],
   "source": [
    "# After training this model, you can predict the next 10 values at once very easily.\n",
    "series = generate_time_series(1, 50 + 10)\n",
    "X_new, Y_new = series[:, :50, :], series[:, -10:, :]\n",
    "Y_pred = model.predict(X_new)[..., np.newaxis]\n",
    "plot_multiple_forecasts(X_new, Y_new, Y_pred)"
   ]
  },
  {
   "cell_type": "markdown",
   "metadata": {
    "slideshow": {
     "slide_type": "slide"
    }
   },
   "source": [
    "<h1><center>Forecasting Several Steps at Each Time Step</center></h1>\n",
    "\n",
    "- Instead of training the model to forecast the next 10 values only at the very last time step, we can train it to forecast the next 10 values at each and every time step.\n",
    "\n",
    "- In other words, we can turn this sequence-to-vector RNN into a sequence-to-sequence RNN.\n",
    "\n",
    "- The advantage of this technique is that the loss will contain a term for the output of the RNN at each and every time step, not just the output at the last time step.\n",
    "\n",
    "- This means there will be many more error gradients flowing through the model, and they won’t have to flow only through time; they will also flow from the output of each time step.\n",
    "\n",
    "- This will both stabilize and speed up training."
   ]
  },
  {
   "cell_type": "markdown",
   "metadata": {
    "slideshow": {
     "slide_type": "slide"
    }
   },
   "source": [
    "<h1><center>Forecasting Several Steps at Each Time Step</center></h1>\n",
    "\n",
    "- To be clear, at time step 0 the model will output a vector containing the forecasts for time steps 1 to 10, then at time step 1 the model will forecast time steps 2 to 11, and so on.\n",
    "\n",
    "- So each target must be a sequence of the same length as the input sequence, containing a 10-dimensional vector at each step. Let’s prepare these target sequences:"
   ]
  },
  {
   "cell_type": "code",
   "execution_count": 48,
   "metadata": {
    "slideshow": {
     "slide_type": "skip"
    }
   },
   "outputs": [],
   "source": [
    "np.random.seed(42)"
   ]
  },
  {
   "cell_type": "code",
   "execution_count": 17,
   "metadata": {
    "slideshow": {
     "slide_type": "fragment"
    }
   },
   "outputs": [],
   "source": [
    "'''Now let's create an RNN that predicts the next 10 steps at each time step.\n",
    "That is, instead of just forecasting time steps 50 to 59 based on time steps 0 to 49,\n",
    "it will forecast time steps 1 to 10 at time step 0, then time steps 2 to 11 at time step 1, and so on,\n",
    "and finally it will forecast time steps 50 to 59 at the last time step.\n",
    "Notice that the model is causal: when it makes predictions at any time step, it can only see past time steps.'''\n",
    "n_steps = 50\n",
    "series = generate_time_series(10000, n_steps + 10)\n",
    "X_train = series[:7000, :n_steps]\n",
    "X_valid = series[7000:9000, :n_steps]\n",
    "X_test = series[9000:, :n_steps]\n",
    "Y = np.empty((10000, n_steps, 10))\n",
    "for step_ahead in range(1, 10 + 1):\n",
    "    Y[..., step_ahead - 1] = series[..., step_ahead:step_ahead + n_steps, 0]\n",
    "Y_train = Y[:7000]\n",
    "Y_valid = Y[7000:9000]\n",
    "Y_test = Y[9000:]"
   ]
  },
  {
   "cell_type": "code",
   "execution_count": 50,
   "metadata": {
    "slideshow": {
     "slide_type": "fragment"
    }
   },
   "outputs": [
    {
     "data": {
      "text/plain": [
       "((7000, 50, 1), (7000, 50, 10))"
      ]
     },
     "execution_count": 50,
     "metadata": {},
     "output_type": "execute_result"
    }
   ],
   "source": [
    "X_train.shape, Y_train.shape"
   ]
  },
  {
   "cell_type": "markdown",
   "metadata": {
    "slideshow": {
     "slide_type": "slide"
    }
   },
   "source": [
    "<h1><center>Keras TimeDistributed</center></h1>\n",
    "\n",
    "- To turn the model into a sequence-to-sequence model, we must set `return_sequences=True` in all recurrent layers (even the last one), and we must apply the output Dense layer at every time step.\n",
    "\n",
    "- Keras offers a `TimeDistributed` layer for this very purpose: it wraps any layer (e.g., a Dense layer) and applies it at every time step of its input sequence.\n",
    "\n",
    "- It does this efficiently, by reshaping the inputs so that each time step is treated as a separate instance i.e., it reshapes the inputs from [batch size, time steps, input dimensions] to [batch size × time steps, input dimensions]; in this example, the number of input dimensions is 20 because the previous `SimpleRNN` layer has 20 units, then it runs the Dense layer, and finally it reshapes the outputs back to sequences i.e., it reshapes the outputs from [batch size × time steps, output dimensions] to [batch size, time steps, output dimensions]; in this example the number of output dimensions is 10, since the Dense layer has 10 units.\n",
    "\n",
    "- Here is the updated model:"
   ]
  },
  {
   "cell_type": "code",
   "execution_count": 51,
   "metadata": {
    "slideshow": {
     "slide_type": "skip"
    }
   },
   "outputs": [],
   "source": [
    "np.random.seed(42)\n",
    "tf.random.set_seed(42)"
   ]
  },
  {
   "cell_type": "code",
   "execution_count": null,
   "metadata": {
    "slideshow": {
     "slide_type": "fragment"
    }
   },
   "outputs": [],
   "source": [
    "model = keras.models.Sequential([\n",
    "    keras.layers.SimpleRNN(20, return_sequences=True, input_shape=[None, 1]),\n",
    "    keras.layers.SimpleRNN(20, return_sequences=True),\n",
    "    keras.layers.TimeDistributed(keras.layers.Dense(10))\n",
    "])"
   ]
  },
  {
   "cell_type": "markdown",
   "metadata": {
    "slideshow": {
     "slide_type": "slide"
    }
   },
   "source": [
    "<h1><center>Last Time Step MSE</center></h1>\n",
    "\n",
    "- All outputs are needed during training, but only the output at the last time step is useful for predictions and for evaluation.\n",
    "\n",
    "- So although we will rely on the MSE over all the outputs for training, we will use a custom metric for evaluation, to only compute the MSE over the output at the last time step:"
   ]
  },
  {
   "cell_type": "code",
   "execution_count": 52,
   "metadata": {
    "slideshow": {
     "slide_type": "fragment"
    }
   },
   "outputs": [
    {
     "name": "stdout",
     "output_type": "stream",
     "text": [
      "Epoch 1/20\n",
      "219/219 [==============================] - 6s 28ms/step - loss: 0.0508 - last_time_step_mse: 0.0400 - val_loss: 0.0429 - val_last_time_step_mse: 0.0324\n",
      "Epoch 2/20\n",
      "219/219 [==============================] - 6s 27ms/step - loss: 0.0395 - last_time_step_mse: 0.0283 - val_loss: 0.0351 - val_last_time_step_mse: 0.0243\n",
      "Epoch 3/20\n",
      "219/219 [==============================] - 6s 28ms/step - loss: 0.0326 - last_time_step_mse: 0.0213 - val_loss: 0.0299 - val_last_time_step_mse: 0.0184\n",
      "Epoch 4/20\n",
      "219/219 [==============================] - 6s 27ms/step - loss: 0.0291 - last_time_step_mse: 0.0177 - val_loss: 0.0273 - val_last_time_step_mse: 0.0156\n",
      "Epoch 5/20\n",
      "219/219 [==============================] - 6s 27ms/step - loss: 0.0273 - last_time_step_mse: 0.0156 - val_loss: 0.0256 - val_last_time_step_mse: 0.0142\n",
      "Epoch 6/20\n",
      "219/219 [==============================] - 6s 27ms/step - loss: 0.0250 - last_time_step_mse: 0.0123 - val_loss: 0.0249 - val_last_time_step_mse: 0.0119\n",
      "Epoch 7/20\n",
      "219/219 [==============================] - 6s 27ms/step - loss: 0.0231 - last_time_step_mse: 0.0103 - val_loss: 0.0234 - val_last_time_step_mse: 0.0107\n",
      "Epoch 8/20\n",
      "219/219 [==============================] - 6s 27ms/step - loss: 0.0216 - last_time_step_mse: 0.0086 - val_loss: 0.0220 - val_last_time_step_mse: 0.0094\n",
      "Epoch 9/20\n",
      "219/219 [==============================] - 6s 27ms/step - loss: 0.0213 - last_time_step_mse: 0.0086 - val_loss: 0.0208 - val_last_time_step_mse: 0.0079\n",
      "Epoch 10/20\n",
      "219/219 [==============================] - 6s 28ms/step - loss: 0.0212 - last_time_step_mse: 0.0086 - val_loss: 0.0199 - val_last_time_step_mse: 0.0073\n",
      "Epoch 11/20\n",
      "219/219 [==============================] - 6s 28ms/step - loss: 0.0205 - last_time_step_mse: 0.0081 - val_loss: 0.0201 - val_last_time_step_mse: 0.0078\n",
      "Epoch 12/20\n",
      "219/219 [==============================] - 6s 28ms/step - loss: 0.0202 - last_time_step_mse: 0.0080 - val_loss: 0.0188 - val_last_time_step_mse: 0.0065\n",
      "Epoch 13/20\n",
      "219/219 [==============================] - 6s 28ms/step - loss: 0.0197 - last_time_step_mse: 0.0075 - val_loss: 0.0212 - val_last_time_step_mse: 0.0086\n",
      "Epoch 14/20\n",
      "219/219 [==============================] - 6s 29ms/step - loss: 0.0193 - last_time_step_mse: 0.0071 - val_loss: 0.0189 - val_last_time_step_mse: 0.0065\n",
      "Epoch 15/20\n",
      "219/219 [==============================] - 6s 28ms/step - loss: 0.0194 - last_time_step_mse: 0.0073 - val_loss: 0.0183 - val_last_time_step_mse: 0.0068\n",
      "Epoch 16/20\n",
      "219/219 [==============================] - 7s 30ms/step - loss: 0.0188 - last_time_step_mse: 0.0068 - val_loss: 0.0189 - val_last_time_step_mse: 0.0084\n",
      "Epoch 17/20\n",
      "219/219 [==============================] - 6s 27ms/step - loss: 0.0187 - last_time_step_mse: 0.0067 - val_loss: 0.0190 - val_last_time_step_mse: 0.0077\n",
      "Epoch 18/20\n",
      "219/219 [==============================] - 6s 27ms/step - loss: 0.0186 - last_time_step_mse: 0.0070 - val_loss: 0.0184 - val_last_time_step_mse: 0.0067\n",
      "Epoch 19/20\n",
      "219/219 [==============================] - 6s 27ms/step - loss: 0.0186 - last_time_step_mse: 0.0069 - val_loss: 0.0171 - val_last_time_step_mse: 0.0055\n",
      "Epoch 20/20\n",
      "219/219 [==============================] - 6s 28ms/step - loss: 0.0184 - last_time_step_mse: 0.0068 - val_loss: 0.0200 - val_last_time_step_mse: 0.0092\n"
     ]
    }
   ],
   "source": [
    "def last_time_step_mse(Y_true, Y_pred):\n",
    "    return keras.metrics.mean_squared_error(Y_true[:, -1], Y_pred[:, -1])\n",
    "\n",
    "model.compile(loss=\"mse\", optimizer=keras.optimizers.Adam(lr=0.01), metrics=[last_time_step_mse])\n",
    "history = model.fit(X_train, Y_train, epochs=20,\n",
    "                    validation_data=(X_valid, Y_valid))"
   ]
  },
  {
   "cell_type": "code",
   "execution_count": 53,
   "metadata": {
    "slideshow": {
     "slide_type": "skip"
    }
   },
   "outputs": [],
   "source": [
    "np.random.seed(43)"
   ]
  },
  {
   "cell_type": "code",
   "execution_count": 54,
   "metadata": {
    "slideshow": {
     "slide_type": "slide"
    }
   },
   "outputs": [],
   "source": [
    "series = generate_time_series(1, 50 + 10)\n",
    "X_new, Y_new = series[:, :50, :], series[:, 50:, :]\n",
    "Y_pred = model.predict(X_new)[:, -1][..., np.newaxis]"
   ]
  },
  {
   "cell_type": "code",
   "execution_count": 55,
   "metadata": {
    "slideshow": {
     "slide_type": "fragment"
    }
   },
   "outputs": [
    {
     "data": {
      "image/png": "[encoded data removed]",
      "text/plain": [
       "<Figure size 432x288 with 1 Axes>"
      ]
     },
     "metadata": {
      "needs_background": "light"
     },
     "output_type": "display_data"
    }
   ],
   "source": [
    "plot_multiple_forecasts(X_new, Y_new, Y_pred)"
   ]
  },
  {
   "cell_type": "markdown",
   "metadata": {
    "slideshow": {
     "slide_type": "slide"
    }
   },
   "source": [
    "<h1><center>Handling Long Sequences</center></h1>\n",
    "\n",
    "- Simple RNNs can be quite good at forecasting time series or handling other kinds of sequences, but they do not perform as well on long time series or sequences.\n",
    "\n",
    "\n",
    "- To train an RNN on long sequences, we must run it over many time steps, making the unrolled RNN a very deep network.\n",
    "\n",
    "\n",
    "- Just like any deep neural network it may suffer from the **unstable gradients** problem: it may take forever to train, or training may be unstable.\n",
    "\n",
    "\n",
    "- Moreover, when an RNN processes a long sequence, it will gradually forget the first inputs in the sequence.\n",
    "\n",
    "\n",
    "- Let’s look at both these problems, starting with the **unstable gradients** problem."
   ]
  },
  {
   "cell_type": "markdown",
   "metadata": {
    "slideshow": {
     "slide_type": "slide"
    }
   },
   "source": [
    "<h1><center>Fighting the Unstable Gradients Problem</center></h1>\n",
    "\n",
    "- Many of the tricks we used in deep nets to alleviate the unstable gradients problem can also be used for RNNs: good parameter initialization, faster optimizers, dropout, and so on.\n",
    "\n",
    "\n",
    "- However, nonsaturating activation functions (e.g., ReLU) may not help as much here; in fact, they may actually lead the RNN to be even more unstable during training. Why?\n",
    "\n",
    "    - Suppose Gradient Descent updates the weights in a way that increases the outputs slightly at the first time step.\n",
    "\n",
    "    - Because the same weights are used at every time step, the outputs at the second time step may also be slightly increased, and those at the third, and so on until the outputs explode—and a nonsaturating activation function does not prevent that. You can reduce this risk by using a smaller learning rate, but you can also simply use a saturating activation function like the hyperbolic tangent (this explains why it is the default).\n",
    "\n",
    "\n",
    "- In much the same way, the gradients themselves can explode. If you notice that training is unstable, you may want to monitor the size of the gradients (e.g., using TensorBoard) and perhaps use **Gradient Clipping**."
   ]
  },
  {
   "cell_type": "markdown",
   "metadata": {
    "slideshow": {
     "slide_type": "slide"
    }
   },
   "source": [
    "<h1><center>Layer Normalization</center></h1>\n",
    "\n",
    "\n",
    "- Batch Normalization cannot be used as efficiently with RNNs as with deep feedforward nets. In fact, you cannot use it between time steps, only between recurrent layers.\n",
    "\n",
    "\n",
    "- Another form of normalization often works better with RNNs: **Layer Normalization**.\n",
    "\n",
    "\n",
    "- This idea was introduced by Jimmy Lei Ba et al. in a 2016 paper: it is very similar to Batch Normalization, but instead of normalizing across the batch dimension, it normalizes across the features dimension.\n",
    "\n",
    "\n",
    "- One advantage is that it can compute the required statistics on the fly, at each time step, independently for each instance.\n",
    "\n",
    "\n",
    "- This also means that it behaves the same way during training and testing (as opposed to BN), and it does not need to use exponential moving averages to estimate the feature statistics across all instances in the training set.\n",
    "\n",
    "\n",
    "- Like BN, **Layer Normalization** learns a scale and an offset parameter for each input. In an RNN, it is typically used right after the linear combination of the inputs and the hidden states."
   ]
  },
  {
   "cell_type": "markdown",
   "metadata": {
    "slideshow": {
     "slide_type": "slide"
    }
   },
   "source": [
    "<h1><center>Layer Normalization Cont.</center></h1>\n",
    "\n",
    "- Let’s use `tf.keras` to implement Layer Normalization within a simple memory cell.\n",
    "\n",
    "- For this, we need to define a custom memory cell. It is just like a regular layer, except its `call()` method takes two arguments: the inputs at the current time step and the hidden states from the previous time step.\n",
    "\n",
    "- Note that the `states` argument is a list containing one or more tensors.\n",
    "\n",
    "- In the case of a simple RNN cell it contains a single tensor equal to the outputs of the previous time step, but other cells may have multiple state tensors (e.g., an `LSTMCell` has a long-term state and a short-term state, as we will see shortly).\n",
    "\n",
    "- A cell must also have a `state_size` attribute and an `output_size` attribute. In a simple RNN, both are simply equal to the number of units."
   ]
  },
  {
   "cell_type": "markdown",
   "metadata": {
    "slideshow": {
     "slide_type": "slide"
    }
   },
   "source": [
    "<h1><center>Layer Normalization in tf.keras</center></h1>\n",
    "\n",
    "- The following code implements a custom memory cell which will behave like a `SimpleRNNCell`, except it will also apply **Layer Normalization** at each time step:"
   ]
  },
  {
   "cell_type": "code",
   "execution_count": 8,
   "metadata": {
    "slideshow": {
     "slide_type": "fragment"
    }
   },
   "outputs": [],
   "source": [
    "from tensorflow.keras.layers import LayerNormalization\n",
    "\n",
    "class LNSimpleRNNCell(keras.layers.Layer):\n",
    "    def __init__(self, units, activation=\"tanh\", **kwargs):\n",
    "        super().__init__(**kwargs)\n",
    "        self.state_size = units\n",
    "        self.output_size = units\n",
    "        self.simple_rnn_cell = keras.layers.SimpleRNNCell(units,\n",
    "                                                          activation=None)\n",
    "        self.layer_norm = LayerNormalization()\n",
    "        self.activation = keras.activations.get(activation)\n",
    "    def get_initial_state(self, inputs=None, batch_size=None, dtype=None):\n",
    "        if inputs is not None:\n",
    "            batch_size = tf.shape(inputs)[0]\n",
    "            dtype = inputs.dtype\n",
    "        return [tf.zeros([batch_size, self.state_size], dtype=dtype)]\n",
    "    def call(self, inputs, states):\n",
    "        outputs, new_states = self.simple_rnn_cell(inputs, states)\n",
    "        norm_outputs = self.activation(self.layer_norm(outputs))\n",
    "        return norm_outputs, [norm_outputs]\n",
    "\n",
    "''' The code is quite straightforward. Our LNSimpleRNNCell class inherits from the keras.layers.Layer class,\n",
    "just like any custom layer.\n",
    "The constructor takes the number of units and the desired activation function, and it sets the state_size and\n",
    "output_size attributes, then creates a SimpleRNNCell with no activation function\n",
    "(because we want to perform Layer Normalization after the linear operation but before the activation function).\n",
    "Then the constructor creates the LayerNormalization layer, and finally it fetches the desired activation function.\n",
    "The call() method starts by applying the simple RNN cell,\n",
    "which computes a linear combination of the current inputs and the previous hidden states,\n",
    "and it returns the result twice (indeed, in a SimpleRNNCell , the outputs are just equal to the hidden states: \n",
    "in other words, new_states[0] is equal to outputs , so we can safely ignore new_states in the rest of\n",
    "the call() method). Next, the call() method applies Layer Normalization,\n",
    "followed by the activation function. Finally, it returns the outputs twice (once as the outputs,\n",
    "and once as the new hidden states). '''"
   ]
  },
  {
   "cell_type": "code",
   "execution_count": 9,
   "metadata": {
    "slideshow": {
     "slide_type": "skip"
    }
   },
   "outputs": [],
   "source": [
    "np.random.seed(42)\n",
    "tf.random.set_seed(42)"
   ]
  },
  {
   "cell_type": "code",
   "execution_count": 19,
   "metadata": {
    "slideshow": {
     "slide_type": "slide"
    }
   },
   "outputs": [],
   "source": [
    "''' To use this custom cell, all we need to do is create\n",
    "a keras.layers.RNN layer, passing it a cell instance: '''\n",
    "\n",
    "model = keras.models.Sequential([\n",
    "    keras.layers.RNN(LNSimpleRNNCell(20), return_sequences=True,\n",
    "                     input_shape=[None, 1]),\n",
    "    keras.layers.RNN(LNSimpleRNNCell(20), return_sequences=True),\n",
    "    keras.layers.TimeDistributed(keras.layers.Dense(10))\n",
    "])\n",
    "\n",
    "''' With these techniques, you can alleviate the unstable gradients problem and train an\n",
    "RNN much more efficiently. '''\n",
    "\n",
    "model.compile(loss=\"mse\", optimizer=\"adam\", metrics=[last_time_step_mse])\n",
    "history = model.fit(X_train, Y_train, epochs=20,\n",
    "                    validation_data=(X_valid, Y_valid))"
   ]
  },
  {
   "cell_type": "markdown",
   "metadata": {
    "slideshow": {
     "slide_type": "slide"
    }
   },
   "source": [
    "<h1><center>Tackling the Short-Term Memory Problem</center></h1>\n",
    "\n",
    "- Due to the transformations that the data goes through when traversing an RNN, some information is lost at each time step.\n",
    "\n",
    "\n",
    "- After a while, the RNN’s state contains virtually no trace of the first inputs.\n",
    "\n",
    "\n",
    "- This can be a showstopper. Imagine Dory the fish trying to translate a long sentence; by the time she’s finished reading it, she has no clue how it started.\n",
    "\n",
    "\n",
    "- To tackle this problem, various types of cells with long-term memory have been introduced. They have proven so successful that the basic cells are not used much anymore.\n",
    "\n",
    "\n",
    "- Let’s first look at the most popular of these long-term memory cells: the **LSTM cell**."
   ]
  },
  {
   "cell_type": "markdown",
   "metadata": {
    "slideshow": {
     "slide_type": "slide"
    }
   },
   "source": [
    "<h1><center>LSTM Cell</center></h1>\n",
    "\n",
    "- The **Long Short-Term Memory (LSTM) cell** was proposed in 1997 by Sepp Hochreiter and Jürgen Schmidhuber and gradually improved over the years by several researchers, such as Alex Graves, Haşim Sak, and Wojciech Zaremba.\n",
    "\n",
    "- If you consider the **LSTM cell** as a black box, it can be used very much like a basic cell, except it will perform much better; training will converge faster, and it will detect long-term dependencies in the data.\n",
    "\n",
    "<center><img src=\"img/fig-15-9.png\" align=\"center\"/></center>\n",
    "\n",
    "<font size='1'>Image from Ref[1]</font>"
   ]
  },
  {
   "cell_type": "markdown",
   "metadata": {
    "slideshow": {
     "slide_type": "slide"
    }
   },
   "source": [
    "**Equation 15-3: LSTM computations**\n",
    "\n",
    "$\n",
    "\\begin{split}\n",
    "\\mathbf{i}_{(t)}&=\\sigma({\\mathbf{W}_{xi}}^T \\mathbf{x}_{(t)} + {\\mathbf{W}_{hi}}^T \\mathbf{h}_{(t-1)} + \\mathbf{b}_i)\\\\\n",
    "\\mathbf{f}_{(t)}&=\\sigma({\\mathbf{W}_{xf}}^T \\mathbf{x}_{(t)} + {\\mathbf{W}_{hf}}^T \\mathbf{h}_{(t-1)} + \\mathbf{b}_f)\\\\\n",
    "\\mathbf{o}_{(t)}&=\\sigma({\\mathbf{W}_{xo}}^T \\mathbf{x}_{(t)} + {\\mathbf{W}_{ho}}^T \\mathbf{h}_{(t-1)} + \\mathbf{b}_o)\\\\\n",
    "\\mathbf{g}_{(t)}&=\\operatorname{tanh}({\\mathbf{W}_{xg}}^T \\mathbf{x}_{(t)} + {\\mathbf{W}_{hg}}^T \\mathbf{h}_{(t-1)} + \\mathbf{b}_g)\\\\\n",
    "\\mathbf{c}_{(t)}&=\\mathbf{f}_{(t)} \\otimes \\mathbf{c}_{(t-1)} \\, + \\, \\mathbf{i}_{(t)} \\otimes \\mathbf{g}_{(t)}\\\\\n",
    "\\mathbf{y}_{(t)}&=\\mathbf{h}_{(t)} = \\mathbf{o}_{(t)} \\otimes \\operatorname{tanh}(\\mathbf{c}_{(t)})\n",
    "\\end{split}\n",
    "$"
   ]
  },
  {
   "cell_type": "markdown",
   "metadata": {
    "slideshow": {
     "slide_type": "slide"
    }
   },
   "source": [
    "<h1><center>LSTM In Keras</center></h1>\n",
    "\n",
    "- In Keras, you can simply use the `LSTM` layer instead of the `SimpleRNN` layer:"
   ]
  },
  {
   "cell_type": "code",
   "execution_count": null,
   "metadata": {
    "slideshow": {
     "slide_type": "skip"
    }
   },
   "outputs": [],
   "source": [
    "np.random.seed(42)\n",
    "tf.random.set_seed(42)"
   ]
  },
  {
   "cell_type": "code",
   "execution_count": null,
   "metadata": {
    "slideshow": {
     "slide_type": "fragment"
    }
   },
   "outputs": [],
   "source": [
    "model = keras.models.Sequential([\n",
    "    keras.layers.LSTM(20, return_sequences=True, input_shape=[None, 1]),\n",
    "    keras.layers.LSTM(20, return_sequences=True),\n",
    "    keras.layers.TimeDistributed(keras.layers.Dense(10))\n",
    "])\n",
    "\n",
    "model.compile(loss=\"mse\", optimizer=\"adam\", metrics=[last_time_step_mse])\n",
    "history = model.fit(X_train, Y_train, epochs=20,\n",
    "                    validation_data=(X_valid, Y_valid))"
   ]
  },
  {
   "cell_type": "markdown",
   "metadata": {
    "slideshow": {
     "slide_type": "slide"
    }
   },
   "source": [
    "<h1><center>GRU Cell</center></h1>\n",
    "\n",
    "- There are many other variants of the LSTM cell. One particularly popular variant is the GRU cell.\n",
    "\n",
    "- The GRU cell is a simplified version of the LSTM cell, and it seems to perform just as well which explains its growing popularity.\n",
    "\n",
    "<center><img src=\"img/fig-15-10.png\" align=\"center\"/></center>\n",
    "\n",
    "<font size='1'>Image from Ref[1]</font>"
   ]
  },
  {
   "cell_type": "markdown",
   "metadata": {
    "slideshow": {
     "slide_type": "slide"
    }
   },
   "source": [
    "<h1><center>WaveNet Architecture</center></h1>\n",
    "\n",
    "- In a 2016 paper, Aaron van den Oord and other DeepMind researchers introduced an architecture called WaveNet.\n",
    "\n",
    "- They stacked 1D convolutional layers, doubling the dilation rate (how spread apart each neuron’s inputs are) at every layer: the first convolutional layer gets a glimpse of just two time steps at a time, while the next one sees four time steps (its receptive field is four time steps long), the next one sees eight time steps, and so on (see Figure 15-11).\n",
    "\n",
    "- This way, the lower layers learn short-term patterns, while the higher layers learn long-term patterns.\n",
    "\n",
    "- Thanks to the doubling dilation rate, the network can process extremely large sequences very efficiently.\n",
    "\n",
    "<center><img src=\"img/fig-15-11.png\" align=\"center\"/></center>\n",
    "\n",
    "<font size='1'>Image from Ref[1]</font>"
   ]
  },
  {
   "cell_type": "markdown",
   "metadata": {
    "slideshow": {
     "slide_type": "notes"
    }
   },
   "source": [
    "<h1><center>References</center></h1>\n",
    "\n",
    "[1] Hands-On ML Textbook Edition-2 2019"
   ]
  }
 ],
 "metadata": {
  "celltoolbar": "Slideshow",
  "kernelspec": {
   "display_name": "Python 3",
   "language": "python",
   "name": "python3"
  },
  "language_info": {
   "codemirror_mode": {
    "name": "ipython",
    "version": 3
   },
   "file_extension": ".py",
   "mimetype": "text/x-python",
   "name": "python",
   "nbconvert_exporter": "python",
   "pygments_lexer": "ipython3",
   "version": "3.8.8"
  }
 },
 "nbformat": 4,
 "nbformat_minor": 2
}
